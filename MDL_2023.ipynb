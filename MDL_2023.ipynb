{
  "nbformat": 4,
  "nbformat_minor": 0,
  "metadata": {
    "colab": {
      "provenance": [],
      "include_colab_link": true
    },
    "kernelspec": {
      "name": "python3",
      "display_name": "Python 3"
    },
    "language_info": {
      "name": "python"
    },
    "accelerator": "GPU",
    "gpuClass": "standard",
    "widgets": {
      "application/vnd.jupyter.widget-state+json": {
        "0a3dd33df60a44edabe032f020f53d44": {
          "model_module": "@jupyter-widgets/controls",
          "model_name": "HBoxModel",
          "model_module_version": "1.5.0",
          "state": {
            "_dom_classes": [],
            "_model_module": "@jupyter-widgets/controls",
            "_model_module_version": "1.5.0",
            "_model_name": "HBoxModel",
            "_view_count": null,
            "_view_module": "@jupyter-widgets/controls",
            "_view_module_version": "1.5.0",
            "_view_name": "HBoxView",
            "box_style": "",
            "children": [
              "IPY_MODEL_da5f6386dbb44b87b0d16846e85a22f2",
              "IPY_MODEL_6b9e1a16701a418e87c8974ff223b751",
              "IPY_MODEL_506554c591ae43c29588a543aa2c2079"
            ],
            "layout": "IPY_MODEL_26c471fedca345c39ab7158f72349d58"
          }
        },
        "da5f6386dbb44b87b0d16846e85a22f2": {
          "model_module": "@jupyter-widgets/controls",
          "model_name": "HTMLModel",
          "model_module_version": "1.5.0",
          "state": {
            "_dom_classes": [],
            "_model_module": "@jupyter-widgets/controls",
            "_model_module_version": "1.5.0",
            "_model_name": "HTMLModel",
            "_view_count": null,
            "_view_module": "@jupyter-widgets/controls",
            "_view_module_version": "1.5.0",
            "_view_name": "HTMLView",
            "description": "",
            "description_tooltip": null,
            "layout": "IPY_MODEL_30f336a985c944f392688da3dd3606ac",
            "placeholder": "​",
            "style": "IPY_MODEL_8c00f5b2bbce40e4999d01364989b322",
            "value": "100%"
          }
        },
        "6b9e1a16701a418e87c8974ff223b751": {
          "model_module": "@jupyter-widgets/controls",
          "model_name": "FloatProgressModel",
          "model_module_version": "1.5.0",
          "state": {
            "_dom_classes": [],
            "_model_module": "@jupyter-widgets/controls",
            "_model_module_version": "1.5.0",
            "_model_name": "FloatProgressModel",
            "_view_count": null,
            "_view_module": "@jupyter-widgets/controls",
            "_view_module_version": "1.5.0",
            "_view_name": "ProgressView",
            "bar_style": "success",
            "description": "",
            "description_tooltip": null,
            "layout": "IPY_MODEL_65fc5dd080534b9a9873ecb21c48ca36",
            "max": 9912422,
            "min": 0,
            "orientation": "horizontal",
            "style": "IPY_MODEL_c2f985f20df24566ad904c6e98c04afe",
            "value": 9912422
          }
        },
        "506554c591ae43c29588a543aa2c2079": {
          "model_module": "@jupyter-widgets/controls",
          "model_name": "HTMLModel",
          "model_module_version": "1.5.0",
          "state": {
            "_dom_classes": [],
            "_model_module": "@jupyter-widgets/controls",
            "_model_module_version": "1.5.0",
            "_model_name": "HTMLModel",
            "_view_count": null,
            "_view_module": "@jupyter-widgets/controls",
            "_view_module_version": "1.5.0",
            "_view_name": "HTMLView",
            "description": "",
            "description_tooltip": null,
            "layout": "IPY_MODEL_5cda215c21104db3a5caa4aa5496c215",
            "placeholder": "​",
            "style": "IPY_MODEL_7ec4a07e7d804545933fec3efe65ff0b",
            "value": " 9912422/9912422 [00:00&lt;00:00, 37223051.50it/s]"
          }
        },
        "26c471fedca345c39ab7158f72349d58": {
          "model_module": "@jupyter-widgets/base",
          "model_name": "LayoutModel",
          "model_module_version": "1.2.0",
          "state": {
            "_model_module": "@jupyter-widgets/base",
            "_model_module_version": "1.2.0",
            "_model_name": "LayoutModel",
            "_view_count": null,
            "_view_module": "@jupyter-widgets/base",
            "_view_module_version": "1.2.0",
            "_view_name": "LayoutView",
            "align_content": null,
            "align_items": null,
            "align_self": null,
            "border": null,
            "bottom": null,
            "display": null,
            "flex": null,
            "flex_flow": null,
            "grid_area": null,
            "grid_auto_columns": null,
            "grid_auto_flow": null,
            "grid_auto_rows": null,
            "grid_column": null,
            "grid_gap": null,
            "grid_row": null,
            "grid_template_areas": null,
            "grid_template_columns": null,
            "grid_template_rows": null,
            "height": null,
            "justify_content": null,
            "justify_items": null,
            "left": null,
            "margin": null,
            "max_height": null,
            "max_width": null,
            "min_height": null,
            "min_width": null,
            "object_fit": null,
            "object_position": null,
            "order": null,
            "overflow": null,
            "overflow_x": null,
            "overflow_y": null,
            "padding": null,
            "right": null,
            "top": null,
            "visibility": null,
            "width": null
          }
        },
        "30f336a985c944f392688da3dd3606ac": {
          "model_module": "@jupyter-widgets/base",
          "model_name": "LayoutModel",
          "model_module_version": "1.2.0",
          "state": {
            "_model_module": "@jupyter-widgets/base",
            "_model_module_version": "1.2.0",
            "_model_name": "LayoutModel",
            "_view_count": null,
            "_view_module": "@jupyter-widgets/base",
            "_view_module_version": "1.2.0",
            "_view_name": "LayoutView",
            "align_content": null,
            "align_items": null,
            "align_self": null,
            "border": null,
            "bottom": null,
            "display": null,
            "flex": null,
            "flex_flow": null,
            "grid_area": null,
            "grid_auto_columns": null,
            "grid_auto_flow": null,
            "grid_auto_rows": null,
            "grid_column": null,
            "grid_gap": null,
            "grid_row": null,
            "grid_template_areas": null,
            "grid_template_columns": null,
            "grid_template_rows": null,
            "height": null,
            "justify_content": null,
            "justify_items": null,
            "left": null,
            "margin": null,
            "max_height": null,
            "max_width": null,
            "min_height": null,
            "min_width": null,
            "object_fit": null,
            "object_position": null,
            "order": null,
            "overflow": null,
            "overflow_x": null,
            "overflow_y": null,
            "padding": null,
            "right": null,
            "top": null,
            "visibility": null,
            "width": null
          }
        },
        "8c00f5b2bbce40e4999d01364989b322": {
          "model_module": "@jupyter-widgets/controls",
          "model_name": "DescriptionStyleModel",
          "model_module_version": "1.5.0",
          "state": {
            "_model_module": "@jupyter-widgets/controls",
            "_model_module_version": "1.5.0",
            "_model_name": "DescriptionStyleModel",
            "_view_count": null,
            "_view_module": "@jupyter-widgets/base",
            "_view_module_version": "1.2.0",
            "_view_name": "StyleView",
            "description_width": ""
          }
        },
        "65fc5dd080534b9a9873ecb21c48ca36": {
          "model_module": "@jupyter-widgets/base",
          "model_name": "LayoutModel",
          "model_module_version": "1.2.0",
          "state": {
            "_model_module": "@jupyter-widgets/base",
            "_model_module_version": "1.2.0",
            "_model_name": "LayoutModel",
            "_view_count": null,
            "_view_module": "@jupyter-widgets/base",
            "_view_module_version": "1.2.0",
            "_view_name": "LayoutView",
            "align_content": null,
            "align_items": null,
            "align_self": null,
            "border": null,
            "bottom": null,
            "display": null,
            "flex": null,
            "flex_flow": null,
            "grid_area": null,
            "grid_auto_columns": null,
            "grid_auto_flow": null,
            "grid_auto_rows": null,
            "grid_column": null,
            "grid_gap": null,
            "grid_row": null,
            "grid_template_areas": null,
            "grid_template_columns": null,
            "grid_template_rows": null,
            "height": null,
            "justify_content": null,
            "justify_items": null,
            "left": null,
            "margin": null,
            "max_height": null,
            "max_width": null,
            "min_height": null,
            "min_width": null,
            "object_fit": null,
            "object_position": null,
            "order": null,
            "overflow": null,
            "overflow_x": null,
            "overflow_y": null,
            "padding": null,
            "right": null,
            "top": null,
            "visibility": null,
            "width": null
          }
        },
        "c2f985f20df24566ad904c6e98c04afe": {
          "model_module": "@jupyter-widgets/controls",
          "model_name": "ProgressStyleModel",
          "model_module_version": "1.5.0",
          "state": {
            "_model_module": "@jupyter-widgets/controls",
            "_model_module_version": "1.5.0",
            "_model_name": "ProgressStyleModel",
            "_view_count": null,
            "_view_module": "@jupyter-widgets/base",
            "_view_module_version": "1.2.0",
            "_view_name": "StyleView",
            "bar_color": null,
            "description_width": ""
          }
        },
        "5cda215c21104db3a5caa4aa5496c215": {
          "model_module": "@jupyter-widgets/base",
          "model_name": "LayoutModel",
          "model_module_version": "1.2.0",
          "state": {
            "_model_module": "@jupyter-widgets/base",
            "_model_module_version": "1.2.0",
            "_model_name": "LayoutModel",
            "_view_count": null,
            "_view_module": "@jupyter-widgets/base",
            "_view_module_version": "1.2.0",
            "_view_name": "LayoutView",
            "align_content": null,
            "align_items": null,
            "align_self": null,
            "border": null,
            "bottom": null,
            "display": null,
            "flex": null,
            "flex_flow": null,
            "grid_area": null,
            "grid_auto_columns": null,
            "grid_auto_flow": null,
            "grid_auto_rows": null,
            "grid_column": null,
            "grid_gap": null,
            "grid_row": null,
            "grid_template_areas": null,
            "grid_template_columns": null,
            "grid_template_rows": null,
            "height": null,
            "justify_content": null,
            "justify_items": null,
            "left": null,
            "margin": null,
            "max_height": null,
            "max_width": null,
            "min_height": null,
            "min_width": null,
            "object_fit": null,
            "object_position": null,
            "order": null,
            "overflow": null,
            "overflow_x": null,
            "overflow_y": null,
            "padding": null,
            "right": null,
            "top": null,
            "visibility": null,
            "width": null
          }
        },
        "7ec4a07e7d804545933fec3efe65ff0b": {
          "model_module": "@jupyter-widgets/controls",
          "model_name": "DescriptionStyleModel",
          "model_module_version": "1.5.0",
          "state": {
            "_model_module": "@jupyter-widgets/controls",
            "_model_module_version": "1.5.0",
            "_model_name": "DescriptionStyleModel",
            "_view_count": null,
            "_view_module": "@jupyter-widgets/base",
            "_view_module_version": "1.2.0",
            "_view_name": "StyleView",
            "description_width": ""
          }
        },
        "4e3a9e2205ea4fcf8385b4f9b63a31b4": {
          "model_module": "@jupyter-widgets/controls",
          "model_name": "HBoxModel",
          "model_module_version": "1.5.0",
          "state": {
            "_dom_classes": [],
            "_model_module": "@jupyter-widgets/controls",
            "_model_module_version": "1.5.0",
            "_model_name": "HBoxModel",
            "_view_count": null,
            "_view_module": "@jupyter-widgets/controls",
            "_view_module_version": "1.5.0",
            "_view_name": "HBoxView",
            "box_style": "",
            "children": [
              "IPY_MODEL_67bd7c6e32634ca18c15d33205737bd4",
              "IPY_MODEL_6ba4671d08bb4779ab7038933bdff52b",
              "IPY_MODEL_b744f04683c642fda2e2eb41f105d381"
            ],
            "layout": "IPY_MODEL_db9de71670a243c5875664d0ecd9ab36"
          }
        },
        "67bd7c6e32634ca18c15d33205737bd4": {
          "model_module": "@jupyter-widgets/controls",
          "model_name": "HTMLModel",
          "model_module_version": "1.5.0",
          "state": {
            "_dom_classes": [],
            "_model_module": "@jupyter-widgets/controls",
            "_model_module_version": "1.5.0",
            "_model_name": "HTMLModel",
            "_view_count": null,
            "_view_module": "@jupyter-widgets/controls",
            "_view_module_version": "1.5.0",
            "_view_name": "HTMLView",
            "description": "",
            "description_tooltip": null,
            "layout": "IPY_MODEL_9247d8b2f11c4b2a8bcb5ac2d68d2d97",
            "placeholder": "​",
            "style": "IPY_MODEL_7a7a5ae2fd37492584f7e908705ed0b7",
            "value": "100%"
          }
        },
        "6ba4671d08bb4779ab7038933bdff52b": {
          "model_module": "@jupyter-widgets/controls",
          "model_name": "FloatProgressModel",
          "model_module_version": "1.5.0",
          "state": {
            "_dom_classes": [],
            "_model_module": "@jupyter-widgets/controls",
            "_model_module_version": "1.5.0",
            "_model_name": "FloatProgressModel",
            "_view_count": null,
            "_view_module": "@jupyter-widgets/controls",
            "_view_module_version": "1.5.0",
            "_view_name": "ProgressView",
            "bar_style": "success",
            "description": "",
            "description_tooltip": null,
            "layout": "IPY_MODEL_7a2e84e5b5f24e55882e1cda4f6fb280",
            "max": 28881,
            "min": 0,
            "orientation": "horizontal",
            "style": "IPY_MODEL_e9ae276f1a374b22a538f32ebc25c44b",
            "value": 28881
          }
        },
        "b744f04683c642fda2e2eb41f105d381": {
          "model_module": "@jupyter-widgets/controls",
          "model_name": "HTMLModel",
          "model_module_version": "1.5.0",
          "state": {
            "_dom_classes": [],
            "_model_module": "@jupyter-widgets/controls",
            "_model_module_version": "1.5.0",
            "_model_name": "HTMLModel",
            "_view_count": null,
            "_view_module": "@jupyter-widgets/controls",
            "_view_module_version": "1.5.0",
            "_view_name": "HTMLView",
            "description": "",
            "description_tooltip": null,
            "layout": "IPY_MODEL_a5f25b48d83544a5b8a04a126c5e15f1",
            "placeholder": "​",
            "style": "IPY_MODEL_67700ce651f64a1ead4696842490f210",
            "value": " 28881/28881 [00:00&lt;00:00, 904071.93it/s]"
          }
        },
        "db9de71670a243c5875664d0ecd9ab36": {
          "model_module": "@jupyter-widgets/base",
          "model_name": "LayoutModel",
          "model_module_version": "1.2.0",
          "state": {
            "_model_module": "@jupyter-widgets/base",
            "_model_module_version": "1.2.0",
            "_model_name": "LayoutModel",
            "_view_count": null,
            "_view_module": "@jupyter-widgets/base",
            "_view_module_version": "1.2.0",
            "_view_name": "LayoutView",
            "align_content": null,
            "align_items": null,
            "align_self": null,
            "border": null,
            "bottom": null,
            "display": null,
            "flex": null,
            "flex_flow": null,
            "grid_area": null,
            "grid_auto_columns": null,
            "grid_auto_flow": null,
            "grid_auto_rows": null,
            "grid_column": null,
            "grid_gap": null,
            "grid_row": null,
            "grid_template_areas": null,
            "grid_template_columns": null,
            "grid_template_rows": null,
            "height": null,
            "justify_content": null,
            "justify_items": null,
            "left": null,
            "margin": null,
            "max_height": null,
            "max_width": null,
            "min_height": null,
            "min_width": null,
            "object_fit": null,
            "object_position": null,
            "order": null,
            "overflow": null,
            "overflow_x": null,
            "overflow_y": null,
            "padding": null,
            "right": null,
            "top": null,
            "visibility": null,
            "width": null
          }
        },
        "9247d8b2f11c4b2a8bcb5ac2d68d2d97": {
          "model_module": "@jupyter-widgets/base",
          "model_name": "LayoutModel",
          "model_module_version": "1.2.0",
          "state": {
            "_model_module": "@jupyter-widgets/base",
            "_model_module_version": "1.2.0",
            "_model_name": "LayoutModel",
            "_view_count": null,
            "_view_module": "@jupyter-widgets/base",
            "_view_module_version": "1.2.0",
            "_view_name": "LayoutView",
            "align_content": null,
            "align_items": null,
            "align_self": null,
            "border": null,
            "bottom": null,
            "display": null,
            "flex": null,
            "flex_flow": null,
            "grid_area": null,
            "grid_auto_columns": null,
            "grid_auto_flow": null,
            "grid_auto_rows": null,
            "grid_column": null,
            "grid_gap": null,
            "grid_row": null,
            "grid_template_areas": null,
            "grid_template_columns": null,
            "grid_template_rows": null,
            "height": null,
            "justify_content": null,
            "justify_items": null,
            "left": null,
            "margin": null,
            "max_height": null,
            "max_width": null,
            "min_height": null,
            "min_width": null,
            "object_fit": null,
            "object_position": null,
            "order": null,
            "overflow": null,
            "overflow_x": null,
            "overflow_y": null,
            "padding": null,
            "right": null,
            "top": null,
            "visibility": null,
            "width": null
          }
        },
        "7a7a5ae2fd37492584f7e908705ed0b7": {
          "model_module": "@jupyter-widgets/controls",
          "model_name": "DescriptionStyleModel",
          "model_module_version": "1.5.0",
          "state": {
            "_model_module": "@jupyter-widgets/controls",
            "_model_module_version": "1.5.0",
            "_model_name": "DescriptionStyleModel",
            "_view_count": null,
            "_view_module": "@jupyter-widgets/base",
            "_view_module_version": "1.2.0",
            "_view_name": "StyleView",
            "description_width": ""
          }
        },
        "7a2e84e5b5f24e55882e1cda4f6fb280": {
          "model_module": "@jupyter-widgets/base",
          "model_name": "LayoutModel",
          "model_module_version": "1.2.0",
          "state": {
            "_model_module": "@jupyter-widgets/base",
            "_model_module_version": "1.2.0",
            "_model_name": "LayoutModel",
            "_view_count": null,
            "_view_module": "@jupyter-widgets/base",
            "_view_module_version": "1.2.0",
            "_view_name": "LayoutView",
            "align_content": null,
            "align_items": null,
            "align_self": null,
            "border": null,
            "bottom": null,
            "display": null,
            "flex": null,
            "flex_flow": null,
            "grid_area": null,
            "grid_auto_columns": null,
            "grid_auto_flow": null,
            "grid_auto_rows": null,
            "grid_column": null,
            "grid_gap": null,
            "grid_row": null,
            "grid_template_areas": null,
            "grid_template_columns": null,
            "grid_template_rows": null,
            "height": null,
            "justify_content": null,
            "justify_items": null,
            "left": null,
            "margin": null,
            "max_height": null,
            "max_width": null,
            "min_height": null,
            "min_width": null,
            "object_fit": null,
            "object_position": null,
            "order": null,
            "overflow": null,
            "overflow_x": null,
            "overflow_y": null,
            "padding": null,
            "right": null,
            "top": null,
            "visibility": null,
            "width": null
          }
        },
        "e9ae276f1a374b22a538f32ebc25c44b": {
          "model_module": "@jupyter-widgets/controls",
          "model_name": "ProgressStyleModel",
          "model_module_version": "1.5.0",
          "state": {
            "_model_module": "@jupyter-widgets/controls",
            "_model_module_version": "1.5.0",
            "_model_name": "ProgressStyleModel",
            "_view_count": null,
            "_view_module": "@jupyter-widgets/base",
            "_view_module_version": "1.2.0",
            "_view_name": "StyleView",
            "bar_color": null,
            "description_width": ""
          }
        },
        "a5f25b48d83544a5b8a04a126c5e15f1": {
          "model_module": "@jupyter-widgets/base",
          "model_name": "LayoutModel",
          "model_module_version": "1.2.0",
          "state": {
            "_model_module": "@jupyter-widgets/base",
            "_model_module_version": "1.2.0",
            "_model_name": "LayoutModel",
            "_view_count": null,
            "_view_module": "@jupyter-widgets/base",
            "_view_module_version": "1.2.0",
            "_view_name": "LayoutView",
            "align_content": null,
            "align_items": null,
            "align_self": null,
            "border": null,
            "bottom": null,
            "display": null,
            "flex": null,
            "flex_flow": null,
            "grid_area": null,
            "grid_auto_columns": null,
            "grid_auto_flow": null,
            "grid_auto_rows": null,
            "grid_column": null,
            "grid_gap": null,
            "grid_row": null,
            "grid_template_areas": null,
            "grid_template_columns": null,
            "grid_template_rows": null,
            "height": null,
            "justify_content": null,
            "justify_items": null,
            "left": null,
            "margin": null,
            "max_height": null,
            "max_width": null,
            "min_height": null,
            "min_width": null,
            "object_fit": null,
            "object_position": null,
            "order": null,
            "overflow": null,
            "overflow_x": null,
            "overflow_y": null,
            "padding": null,
            "right": null,
            "top": null,
            "visibility": null,
            "width": null
          }
        },
        "67700ce651f64a1ead4696842490f210": {
          "model_module": "@jupyter-widgets/controls",
          "model_name": "DescriptionStyleModel",
          "model_module_version": "1.5.0",
          "state": {
            "_model_module": "@jupyter-widgets/controls",
            "_model_module_version": "1.5.0",
            "_model_name": "DescriptionStyleModel",
            "_view_count": null,
            "_view_module": "@jupyter-widgets/base",
            "_view_module_version": "1.2.0",
            "_view_name": "StyleView",
            "description_width": ""
          }
        },
        "85a6c41ad184482b835d38afc7e74598": {
          "model_module": "@jupyter-widgets/controls",
          "model_name": "HBoxModel",
          "model_module_version": "1.5.0",
          "state": {
            "_dom_classes": [],
            "_model_module": "@jupyter-widgets/controls",
            "_model_module_version": "1.5.0",
            "_model_name": "HBoxModel",
            "_view_count": null,
            "_view_module": "@jupyter-widgets/controls",
            "_view_module_version": "1.5.0",
            "_view_name": "HBoxView",
            "box_style": "",
            "children": [
              "IPY_MODEL_7b88cbc5a0324c6a9c4eb929f0e143c5",
              "IPY_MODEL_eb86db36ebae4921a526bd9cb0c0b092",
              "IPY_MODEL_2857a321ab75487b98c26b0becfec7f4"
            ],
            "layout": "IPY_MODEL_b54253165c504d3c94e69a19e0643d0a"
          }
        },
        "7b88cbc5a0324c6a9c4eb929f0e143c5": {
          "model_module": "@jupyter-widgets/controls",
          "model_name": "HTMLModel",
          "model_module_version": "1.5.0",
          "state": {
            "_dom_classes": [],
            "_model_module": "@jupyter-widgets/controls",
            "_model_module_version": "1.5.0",
            "_model_name": "HTMLModel",
            "_view_count": null,
            "_view_module": "@jupyter-widgets/controls",
            "_view_module_version": "1.5.0",
            "_view_name": "HTMLView",
            "description": "",
            "description_tooltip": null,
            "layout": "IPY_MODEL_812dfdf1d93049698cb1d3754c38ef97",
            "placeholder": "​",
            "style": "IPY_MODEL_631ecb662eed4f5caa896b565f68f1b7",
            "value": "100%"
          }
        },
        "eb86db36ebae4921a526bd9cb0c0b092": {
          "model_module": "@jupyter-widgets/controls",
          "model_name": "FloatProgressModel",
          "model_module_version": "1.5.0",
          "state": {
            "_dom_classes": [],
            "_model_module": "@jupyter-widgets/controls",
            "_model_module_version": "1.5.0",
            "_model_name": "FloatProgressModel",
            "_view_count": null,
            "_view_module": "@jupyter-widgets/controls",
            "_view_module_version": "1.5.0",
            "_view_name": "ProgressView",
            "bar_style": "success",
            "description": "",
            "description_tooltip": null,
            "layout": "IPY_MODEL_0f636401d21348a68aa590032641e99b",
            "max": 1648877,
            "min": 0,
            "orientation": "horizontal",
            "style": "IPY_MODEL_5ccd040ff2c5439c900352f244f1ac2d",
            "value": 1648877
          }
        },
        "2857a321ab75487b98c26b0becfec7f4": {
          "model_module": "@jupyter-widgets/controls",
          "model_name": "HTMLModel",
          "model_module_version": "1.5.0",
          "state": {
            "_dom_classes": [],
            "_model_module": "@jupyter-widgets/controls",
            "_model_module_version": "1.5.0",
            "_model_name": "HTMLModel",
            "_view_count": null,
            "_view_module": "@jupyter-widgets/controls",
            "_view_module_version": "1.5.0",
            "_view_name": "HTMLView",
            "description": "",
            "description_tooltip": null,
            "layout": "IPY_MODEL_a1b4bd14712b4f65bd9ddaddff73e377",
            "placeholder": "​",
            "style": "IPY_MODEL_ec8a55750867446b97ffccc317af465f",
            "value": " 1648877/1648877 [00:00&lt;00:00, 4859361.94it/s]"
          }
        },
        "b54253165c504d3c94e69a19e0643d0a": {
          "model_module": "@jupyter-widgets/base",
          "model_name": "LayoutModel",
          "model_module_version": "1.2.0",
          "state": {
            "_model_module": "@jupyter-widgets/base",
            "_model_module_version": "1.2.0",
            "_model_name": "LayoutModel",
            "_view_count": null,
            "_view_module": "@jupyter-widgets/base",
            "_view_module_version": "1.2.0",
            "_view_name": "LayoutView",
            "align_content": null,
            "align_items": null,
            "align_self": null,
            "border": null,
            "bottom": null,
            "display": null,
            "flex": null,
            "flex_flow": null,
            "grid_area": null,
            "grid_auto_columns": null,
            "grid_auto_flow": null,
            "grid_auto_rows": null,
            "grid_column": null,
            "grid_gap": null,
            "grid_row": null,
            "grid_template_areas": null,
            "grid_template_columns": null,
            "grid_template_rows": null,
            "height": null,
            "justify_content": null,
            "justify_items": null,
            "left": null,
            "margin": null,
            "max_height": null,
            "max_width": null,
            "min_height": null,
            "min_width": null,
            "object_fit": null,
            "object_position": null,
            "order": null,
            "overflow": null,
            "overflow_x": null,
            "overflow_y": null,
            "padding": null,
            "right": null,
            "top": null,
            "visibility": null,
            "width": null
          }
        },
        "812dfdf1d93049698cb1d3754c38ef97": {
          "model_module": "@jupyter-widgets/base",
          "model_name": "LayoutModel",
          "model_module_version": "1.2.0",
          "state": {
            "_model_module": "@jupyter-widgets/base",
            "_model_module_version": "1.2.0",
            "_model_name": "LayoutModel",
            "_view_count": null,
            "_view_module": "@jupyter-widgets/base",
            "_view_module_version": "1.2.0",
            "_view_name": "LayoutView",
            "align_content": null,
            "align_items": null,
            "align_self": null,
            "border": null,
            "bottom": null,
            "display": null,
            "flex": null,
            "flex_flow": null,
            "grid_area": null,
            "grid_auto_columns": null,
            "grid_auto_flow": null,
            "grid_auto_rows": null,
            "grid_column": null,
            "grid_gap": null,
            "grid_row": null,
            "grid_template_areas": null,
            "grid_template_columns": null,
            "grid_template_rows": null,
            "height": null,
            "justify_content": null,
            "justify_items": null,
            "left": null,
            "margin": null,
            "max_height": null,
            "max_width": null,
            "min_height": null,
            "min_width": null,
            "object_fit": null,
            "object_position": null,
            "order": null,
            "overflow": null,
            "overflow_x": null,
            "overflow_y": null,
            "padding": null,
            "right": null,
            "top": null,
            "visibility": null,
            "width": null
          }
        },
        "631ecb662eed4f5caa896b565f68f1b7": {
          "model_module": "@jupyter-widgets/controls",
          "model_name": "DescriptionStyleModel",
          "model_module_version": "1.5.0",
          "state": {
            "_model_module": "@jupyter-widgets/controls",
            "_model_module_version": "1.5.0",
            "_model_name": "DescriptionStyleModel",
            "_view_count": null,
            "_view_module": "@jupyter-widgets/base",
            "_view_module_version": "1.2.0",
            "_view_name": "StyleView",
            "description_width": ""
          }
        },
        "0f636401d21348a68aa590032641e99b": {
          "model_module": "@jupyter-widgets/base",
          "model_name": "LayoutModel",
          "model_module_version": "1.2.0",
          "state": {
            "_model_module": "@jupyter-widgets/base",
            "_model_module_version": "1.2.0",
            "_model_name": "LayoutModel",
            "_view_count": null,
            "_view_module": "@jupyter-widgets/base",
            "_view_module_version": "1.2.0",
            "_view_name": "LayoutView",
            "align_content": null,
            "align_items": null,
            "align_self": null,
            "border": null,
            "bottom": null,
            "display": null,
            "flex": null,
            "flex_flow": null,
            "grid_area": null,
            "grid_auto_columns": null,
            "grid_auto_flow": null,
            "grid_auto_rows": null,
            "grid_column": null,
            "grid_gap": null,
            "grid_row": null,
            "grid_template_areas": null,
            "grid_template_columns": null,
            "grid_template_rows": null,
            "height": null,
            "justify_content": null,
            "justify_items": null,
            "left": null,
            "margin": null,
            "max_height": null,
            "max_width": null,
            "min_height": null,
            "min_width": null,
            "object_fit": null,
            "object_position": null,
            "order": null,
            "overflow": null,
            "overflow_x": null,
            "overflow_y": null,
            "padding": null,
            "right": null,
            "top": null,
            "visibility": null,
            "width": null
          }
        },
        "5ccd040ff2c5439c900352f244f1ac2d": {
          "model_module": "@jupyter-widgets/controls",
          "model_name": "ProgressStyleModel",
          "model_module_version": "1.5.0",
          "state": {
            "_model_module": "@jupyter-widgets/controls",
            "_model_module_version": "1.5.0",
            "_model_name": "ProgressStyleModel",
            "_view_count": null,
            "_view_module": "@jupyter-widgets/base",
            "_view_module_version": "1.2.0",
            "_view_name": "StyleView",
            "bar_color": null,
            "description_width": ""
          }
        },
        "a1b4bd14712b4f65bd9ddaddff73e377": {
          "model_module": "@jupyter-widgets/base",
          "model_name": "LayoutModel",
          "model_module_version": "1.2.0",
          "state": {
            "_model_module": "@jupyter-widgets/base",
            "_model_module_version": "1.2.0",
            "_model_name": "LayoutModel",
            "_view_count": null,
            "_view_module": "@jupyter-widgets/base",
            "_view_module_version": "1.2.0",
            "_view_name": "LayoutView",
            "align_content": null,
            "align_items": null,
            "align_self": null,
            "border": null,
            "bottom": null,
            "display": null,
            "flex": null,
            "flex_flow": null,
            "grid_area": null,
            "grid_auto_columns": null,
            "grid_auto_flow": null,
            "grid_auto_rows": null,
            "grid_column": null,
            "grid_gap": null,
            "grid_row": null,
            "grid_template_areas": null,
            "grid_template_columns": null,
            "grid_template_rows": null,
            "height": null,
            "justify_content": null,
            "justify_items": null,
            "left": null,
            "margin": null,
            "max_height": null,
            "max_width": null,
            "min_height": null,
            "min_width": null,
            "object_fit": null,
            "object_position": null,
            "order": null,
            "overflow": null,
            "overflow_x": null,
            "overflow_y": null,
            "padding": null,
            "right": null,
            "top": null,
            "visibility": null,
            "width": null
          }
        },
        "ec8a55750867446b97ffccc317af465f": {
          "model_module": "@jupyter-widgets/controls",
          "model_name": "DescriptionStyleModel",
          "model_module_version": "1.5.0",
          "state": {
            "_model_module": "@jupyter-widgets/controls",
            "_model_module_version": "1.5.0",
            "_model_name": "DescriptionStyleModel",
            "_view_count": null,
            "_view_module": "@jupyter-widgets/base",
            "_view_module_version": "1.2.0",
            "_view_name": "StyleView",
            "description_width": ""
          }
        },
        "a2d425815add4006a1f666c802dc07e5": {
          "model_module": "@jupyter-widgets/controls",
          "model_name": "HBoxModel",
          "model_module_version": "1.5.0",
          "state": {
            "_dom_classes": [],
            "_model_module": "@jupyter-widgets/controls",
            "_model_module_version": "1.5.0",
            "_model_name": "HBoxModel",
            "_view_count": null,
            "_view_module": "@jupyter-widgets/controls",
            "_view_module_version": "1.5.0",
            "_view_name": "HBoxView",
            "box_style": "",
            "children": [
              "IPY_MODEL_04ff4ae6bc504788946a46885402af61",
              "IPY_MODEL_493af62afeda44209455140357677a7f",
              "IPY_MODEL_e5d7bcc51fd14879b18b75dc405dc51c"
            ],
            "layout": "IPY_MODEL_4ee6d3a37b584c719700f7ee28257dc4"
          }
        },
        "04ff4ae6bc504788946a46885402af61": {
          "model_module": "@jupyter-widgets/controls",
          "model_name": "HTMLModel",
          "model_module_version": "1.5.0",
          "state": {
            "_dom_classes": [],
            "_model_module": "@jupyter-widgets/controls",
            "_model_module_version": "1.5.0",
            "_model_name": "HTMLModel",
            "_view_count": null,
            "_view_module": "@jupyter-widgets/controls",
            "_view_module_version": "1.5.0",
            "_view_name": "HTMLView",
            "description": "",
            "description_tooltip": null,
            "layout": "IPY_MODEL_497385fa9f5147babddde4cc74470452",
            "placeholder": "​",
            "style": "IPY_MODEL_ea321c2d26a74c328125ebe414726065",
            "value": "100%"
          }
        },
        "493af62afeda44209455140357677a7f": {
          "model_module": "@jupyter-widgets/controls",
          "model_name": "FloatProgressModel",
          "model_module_version": "1.5.0",
          "state": {
            "_dom_classes": [],
            "_model_module": "@jupyter-widgets/controls",
            "_model_module_version": "1.5.0",
            "_model_name": "FloatProgressModel",
            "_view_count": null,
            "_view_module": "@jupyter-widgets/controls",
            "_view_module_version": "1.5.0",
            "_view_name": "ProgressView",
            "bar_style": "success",
            "description": "",
            "description_tooltip": null,
            "layout": "IPY_MODEL_29d623d1c7bc46878d18472731d981dd",
            "max": 4542,
            "min": 0,
            "orientation": "horizontal",
            "style": "IPY_MODEL_b8436318740f4c9b8bb6a53668a69725",
            "value": 4542
          }
        },
        "e5d7bcc51fd14879b18b75dc405dc51c": {
          "model_module": "@jupyter-widgets/controls",
          "model_name": "HTMLModel",
          "model_module_version": "1.5.0",
          "state": {
            "_dom_classes": [],
            "_model_module": "@jupyter-widgets/controls",
            "_model_module_version": "1.5.0",
            "_model_name": "HTMLModel",
            "_view_count": null,
            "_view_module": "@jupyter-widgets/controls",
            "_view_module_version": "1.5.0",
            "_view_name": "HTMLView",
            "description": "",
            "description_tooltip": null,
            "layout": "IPY_MODEL_f4c45a39dab542b8aa2fe2e820ca8370",
            "placeholder": "​",
            "style": "IPY_MODEL_f8ff255aea21448ebd1aed145ba665bd",
            "value": " 4542/4542 [00:00&lt;00:00, 226562.75it/s]"
          }
        },
        "4ee6d3a37b584c719700f7ee28257dc4": {
          "model_module": "@jupyter-widgets/base",
          "model_name": "LayoutModel",
          "model_module_version": "1.2.0",
          "state": {
            "_model_module": "@jupyter-widgets/base",
            "_model_module_version": "1.2.0",
            "_model_name": "LayoutModel",
            "_view_count": null,
            "_view_module": "@jupyter-widgets/base",
            "_view_module_version": "1.2.0",
            "_view_name": "LayoutView",
            "align_content": null,
            "align_items": null,
            "align_self": null,
            "border": null,
            "bottom": null,
            "display": null,
            "flex": null,
            "flex_flow": null,
            "grid_area": null,
            "grid_auto_columns": null,
            "grid_auto_flow": null,
            "grid_auto_rows": null,
            "grid_column": null,
            "grid_gap": null,
            "grid_row": null,
            "grid_template_areas": null,
            "grid_template_columns": null,
            "grid_template_rows": null,
            "height": null,
            "justify_content": null,
            "justify_items": null,
            "left": null,
            "margin": null,
            "max_height": null,
            "max_width": null,
            "min_height": null,
            "min_width": null,
            "object_fit": null,
            "object_position": null,
            "order": null,
            "overflow": null,
            "overflow_x": null,
            "overflow_y": null,
            "padding": null,
            "right": null,
            "top": null,
            "visibility": null,
            "width": null
          }
        },
        "497385fa9f5147babddde4cc74470452": {
          "model_module": "@jupyter-widgets/base",
          "model_name": "LayoutModel",
          "model_module_version": "1.2.0",
          "state": {
            "_model_module": "@jupyter-widgets/base",
            "_model_module_version": "1.2.0",
            "_model_name": "LayoutModel",
            "_view_count": null,
            "_view_module": "@jupyter-widgets/base",
            "_view_module_version": "1.2.0",
            "_view_name": "LayoutView",
            "align_content": null,
            "align_items": null,
            "align_self": null,
            "border": null,
            "bottom": null,
            "display": null,
            "flex": null,
            "flex_flow": null,
            "grid_area": null,
            "grid_auto_columns": null,
            "grid_auto_flow": null,
            "grid_auto_rows": null,
            "grid_column": null,
            "grid_gap": null,
            "grid_row": null,
            "grid_template_areas": null,
            "grid_template_columns": null,
            "grid_template_rows": null,
            "height": null,
            "justify_content": null,
            "justify_items": null,
            "left": null,
            "margin": null,
            "max_height": null,
            "max_width": null,
            "min_height": null,
            "min_width": null,
            "object_fit": null,
            "object_position": null,
            "order": null,
            "overflow": null,
            "overflow_x": null,
            "overflow_y": null,
            "padding": null,
            "right": null,
            "top": null,
            "visibility": null,
            "width": null
          }
        },
        "ea321c2d26a74c328125ebe414726065": {
          "model_module": "@jupyter-widgets/controls",
          "model_name": "DescriptionStyleModel",
          "model_module_version": "1.5.0",
          "state": {
            "_model_module": "@jupyter-widgets/controls",
            "_model_module_version": "1.5.0",
            "_model_name": "DescriptionStyleModel",
            "_view_count": null,
            "_view_module": "@jupyter-widgets/base",
            "_view_module_version": "1.2.0",
            "_view_name": "StyleView",
            "description_width": ""
          }
        },
        "29d623d1c7bc46878d18472731d981dd": {
          "model_module": "@jupyter-widgets/base",
          "model_name": "LayoutModel",
          "model_module_version": "1.2.0",
          "state": {
            "_model_module": "@jupyter-widgets/base",
            "_model_module_version": "1.2.0",
            "_model_name": "LayoutModel",
            "_view_count": null,
            "_view_module": "@jupyter-widgets/base",
            "_view_module_version": "1.2.0",
            "_view_name": "LayoutView",
            "align_content": null,
            "align_items": null,
            "align_self": null,
            "border": null,
            "bottom": null,
            "display": null,
            "flex": null,
            "flex_flow": null,
            "grid_area": null,
            "grid_auto_columns": null,
            "grid_auto_flow": null,
            "grid_auto_rows": null,
            "grid_column": null,
            "grid_gap": null,
            "grid_row": null,
            "grid_template_areas": null,
            "grid_template_columns": null,
            "grid_template_rows": null,
            "height": null,
            "justify_content": null,
            "justify_items": null,
            "left": null,
            "margin": null,
            "max_height": null,
            "max_width": null,
            "min_height": null,
            "min_width": null,
            "object_fit": null,
            "object_position": null,
            "order": null,
            "overflow": null,
            "overflow_x": null,
            "overflow_y": null,
            "padding": null,
            "right": null,
            "top": null,
            "visibility": null,
            "width": null
          }
        },
        "b8436318740f4c9b8bb6a53668a69725": {
          "model_module": "@jupyter-widgets/controls",
          "model_name": "ProgressStyleModel",
          "model_module_version": "1.5.0",
          "state": {
            "_model_module": "@jupyter-widgets/controls",
            "_model_module_version": "1.5.0",
            "_model_name": "ProgressStyleModel",
            "_view_count": null,
            "_view_module": "@jupyter-widgets/base",
            "_view_module_version": "1.2.0",
            "_view_name": "StyleView",
            "bar_color": null,
            "description_width": ""
          }
        },
        "f4c45a39dab542b8aa2fe2e820ca8370": {
          "model_module": "@jupyter-widgets/base",
          "model_name": "LayoutModel",
          "model_module_version": "1.2.0",
          "state": {
            "_model_module": "@jupyter-widgets/base",
            "_model_module_version": "1.2.0",
            "_model_name": "LayoutModel",
            "_view_count": null,
            "_view_module": "@jupyter-widgets/base",
            "_view_module_version": "1.2.0",
            "_view_name": "LayoutView",
            "align_content": null,
            "align_items": null,
            "align_self": null,
            "border": null,
            "bottom": null,
            "display": null,
            "flex": null,
            "flex_flow": null,
            "grid_area": null,
            "grid_auto_columns": null,
            "grid_auto_flow": null,
            "grid_auto_rows": null,
            "grid_column": null,
            "grid_gap": null,
            "grid_row": null,
            "grid_template_areas": null,
            "grid_template_columns": null,
            "grid_template_rows": null,
            "height": null,
            "justify_content": null,
            "justify_items": null,
            "left": null,
            "margin": null,
            "max_height": null,
            "max_width": null,
            "min_height": null,
            "min_width": null,
            "object_fit": null,
            "object_position": null,
            "order": null,
            "overflow": null,
            "overflow_x": null,
            "overflow_y": null,
            "padding": null,
            "right": null,
            "top": null,
            "visibility": null,
            "width": null
          }
        },
        "f8ff255aea21448ebd1aed145ba665bd": {
          "model_module": "@jupyter-widgets/controls",
          "model_name": "DescriptionStyleModel",
          "model_module_version": "1.5.0",
          "state": {
            "_model_module": "@jupyter-widgets/controls",
            "_model_module_version": "1.5.0",
            "_model_name": "DescriptionStyleModel",
            "_view_count": null,
            "_view_module": "@jupyter-widgets/base",
            "_view_module_version": "1.2.0",
            "_view_name": "StyleView",
            "description_width": ""
          }
        }
      }
    }
  },
  "cells": [
    {
      "cell_type": "markdown",
      "metadata": {
        "id": "view-in-github",
        "colab_type": "text"
      },
      "source": [
        "<a href=\"https://colab.research.google.com/github/SidhiPanda/ML/blob/main/MDL_2023.ipynb\" target=\"_parent\"><img src=\"https://colab.research.google.com/assets/colab-badge.svg\" alt=\"Open In Colab\"/></a>"
      ]
    },
    {
      "cell_type": "markdown",
      "source": [
        "##  Tutorial : Machine Learning Libraries and Classification\n"
      ],
      "metadata": {
        "id": "yoZUXXoLcI_d"
      }
    },
    {
      "cell_type": "code",
      "execution_count": 1,
      "metadata": {
        "id": "GWbITbFWcIfX"
      },
      "outputs": [],
      "source": [
        "#libaries to import \n",
        "import matplotlib.pyplot as plt\n",
        "import math\n",
        "import sklearn \n",
        "from sklearn import datasets\n",
        "from sklearn.decomposition import PCA\n",
        "from sklearn.model_selection import train_test_split\n",
        "import numpy as np\n",
        "import random\n",
        "import pandas as pd\n",
        "from mpl_toolkits.mplot3d import Axes3D\n",
        "from sklearn.neighbors import KNeighborsClassifier\n",
        "from sklearn.metrics import accuracy_score\n",
        "from sklearn.tree import DecisionTreeClassifier\n",
        "import time \n",
        "from sklearn.naive_bayes import GaussianNB\n",
        "\n",
        "\n"
      ]
    },
    {
      "cell_type": "code",
      "source": [
        "#Will store some constants that may come useful later\n",
        "SEED = 42\n",
        "\n",
        "#For the NN training later \n",
        "# Define hyperparameters\n",
        "BATCH_SIZE = 64\n",
        "LEARNING_RATE = 0.01\n",
        "NUM_EPOCHS = 10"
      ],
      "metadata": {
        "id": "S17jhzToptvv"
      },
      "execution_count": 2,
      "outputs": []
    },
    {
      "cell_type": "markdown",
      "source": [
        "Dataset Used : IRIS Dataset \\\\\n",
        "IRIS dataset is an small dataset of about 150 examples of 3 different species of the IRIS flower. The three different types of flowers are Iris setosa, Iris virginica and Iris versicolor. The dataset contains 4 physical attributes for each sample of the flower. The four features are sepal length, sepal width, petal length and petal width. "
      ],
      "metadata": {
        "id": "GGv1oWbydDBB"
      }
    },
    {
      "cell_type": "code",
      "source": [
        "\"\"\" We implement a dataset class here \"\"\"\n",
        "class IRIS:\n",
        "  \"\"\" IRIS dataset class \"\"\"\n",
        "  def __init__(self, train_split , test_split):\n",
        "\n",
        "    \"\"\" \n",
        "        Loads the iris dataset from scikit-learn and initializes various data attributes for use in classification tasks.\n",
        "\n",
        "      ARGUMENTS :\n",
        "        train_split , test_split, val_split = ratio of spliting dataset \n",
        "        Sure! Here's an example of a Python docstring for the given code:\n",
        "\n",
        "\n",
        "      Loads the iris dataset from scikit-learn and initializes various data attributes for use in classification tasks.\n",
        "\n",
        "      Attributes:\n",
        "          iris_data (sklearn.utils.Bunch): A dictionary-like object holding the data and metadata for the iris dataset.\n",
        "          iris_dataframe (pandas.DataFrame): A pandas DataFrame representation of the iris dataset.\n",
        "          train_split (float): The proportion of the data to use for training. Should be a value between 0 and 1.\n",
        "          test_split (float): The proportion of the data to use for testing. Should be a value between 0 and 1.\n",
        "          train_X (numpy.ndarray or None): The features for the training data. Initialized to None.\n",
        "          test_X (numpy.ndarray or None): The features for the testing data. Initialized to None.\n",
        "          train_Y (numpy.ndarray or None): The labels for the training data. Initialized to None.\n",
        "          test_Y (numpy.ndarray or None): The labels for the testing data. Initialized to None.\n",
        "\n",
        "      Returns:\n",
        "          None\n",
        "    \"\"\" \n",
        " \n",
        "    self.iris_data = datasets.load_iris() # sklearn automatically downloads the data\n",
        "    self.iris_dataframe = self.format_data_to_dataframe()\n",
        "    self.train_split = train_split\n",
        "    self.test_split = test_split\n",
        "    self.train_X = None\n",
        "    self.test_X = None\n",
        "    self.test_Y = None\n",
        "    self.train_Y = None \n",
        "\n",
        "    self.split_dataset()\n",
        "  \n",
        "  def split_dataset(self):\n",
        "    #divide the data into X and Y\n",
        "    X = self.iris_data.data\n",
        "    Y = self.iris_data.target\n",
        "    self.train_X, self.test_X, self.train_Y, self.test_Y = train_test_split(X,Y, train_size = self.train_split, test_size = self.test_split, random_state = SEED, shuffle = True)\n",
        "\n",
        "\n",
        "\n",
        "\n",
        "  def format_data_to_dataframe(self):\n",
        "    \"\"\" converts data loaded using load_iris to the pandas dataframe \n",
        "    iris_data returns the following relevant data \n",
        "    data = (150,4) size numpy array with the features\n",
        "    feature_names : A list of the names of the each attribute in the data\n",
        "    target : A array containing the class id of the sample\n",
        "    target_name : A array which maps the class id to species name \n",
        "    \n",
        "    RETURNS :\n",
        "      a pandas dataframe with the relevant data\n",
        "    \"\"\"\n",
        "    #extracting the relevant information\n",
        "    feature_data = self.iris_data.data\n",
        "    feature_names = self.iris_data.feature_names\n",
        "    target = self.iris_data.target \n",
        "    target_names = self.iris_data.target_names\n",
        "    # We first build a dictionary to format the data and then pass it to pandas\n",
        "    data = {}\n",
        "    for index,name in enumerate(feature_names):\n",
        "      data[name] = feature_data[:,index]\n",
        "    data[\"class ids\"] = target\n",
        "    data[\"class names\"] = [target_names[target_id] for target_id in target]\n",
        "    iris_dataframe = pd.DataFrame(data = data)\n",
        "    return iris_dataframe \n",
        "\n",
        "  def get_class_names(self, class_ids):\n",
        "    \"\"\" given a list of class id, or just a class id return the corresponding class name datastructure \n",
        "      ARGS:\n",
        "        class_ids: list, int or np.array(1D)\n",
        "      RETUNRS:\n",
        "        class_names : list, int or np.array(1D)\n",
        "    \"\"\"\n",
        "    if type(class_ids) == int:\n",
        "      return self.iris_data.target_names[class_ids]\n",
        "    if type(class_ids) == list:\n",
        "      return [self.iris_data.target_names[class_id] for class_id in class_names]\n",
        "    else :\n",
        "      # assumption is this is np array \n",
        "      return [self.iris_data.target_names[class_ids[i]] for i in range(class_ids.shape[0])]\n",
        "  def get_random_examples(self, n = 1):\n",
        "    \"\"\" returns a random sample of the data \n",
        "    ARGS :\n",
        "      n : number of samples you want \n",
        "    RETURN :\n",
        "      the random set of samples \n",
        "    \"\"\"\n",
        "    sampled_data = self.iris_dataframe.sample(n)\n",
        "    return sampled_data \n",
        "  def getitem(self, index):\n",
        "    \"\"\" returns a particular index(datapoint) from the dataset \n",
        "    ARGS :\n",
        "      index : the index of the datapoint \n",
        "    RETURNS :\n",
        "      the particular dataopoint \n",
        "    \"\"\"\n",
        "    datapoint = self.iris_dataframe.iloc[index]\n",
        "    return datapoint \n",
        "  def get_size(self):\n",
        "    \"\"\" returns the size of the dataset \"\"\"\n",
        "    return self.iris_data.data.shape[0]\n",
        "  \n",
        "  def display_whole_dataset(self):\n",
        "    \"\"\" displays the whole dataset \"\"\"\n",
        "    print(self.iris_dataframe.head(self.get_size()))\n",
        "\n",
        "\n",
        "\n"
      ],
      "metadata": {
        "id": "bA09SoMSevFg"
      },
      "execution_count": 3,
      "outputs": []
    },
    {
      "cell_type": "markdown",
      "source": [
        "Load and Visualize the Dataset \n"
      ],
      "metadata": {
        "id": "QQYks3fBn7v1"
      }
    },
    {
      "cell_type": "code",
      "source": [
        "dataset = IRIS(130,20)\n",
        "print(\"Size of the Dataset : {0} \".format(dataset.get_size()))\n",
        "print(\"10 Random Samples from the dataset :\")\n",
        "print(dataset.get_random_examples(10))\n",
        "#print(\" The 4th datapoint of the dataset : {0}\".format(dataset.getitem(3)))\n",
        "#print(\"The whole dataset \")\n",
        "#dataset.display_whole_dataset()\n"
      ],
      "metadata": {
        "colab": {
          "base_uri": "https://localhost:8080/"
        },
        "id": "qRtAk_U9oAO0",
        "outputId": "d2f9fcc7-cf5f-4763-f081-d32dd7cf9ea1"
      },
      "execution_count": 4,
      "outputs": [
        {
          "output_type": "stream",
          "name": "stdout",
          "text": [
            "Size of the Dataset : 150 \n",
            "10 Random Samples from the dataset :\n",
            "     sepal length (cm)  sepal width (cm)  petal length (cm)  petal width (cm)  \\\n",
            "23                 5.1               3.3                1.7               0.5   \n",
            "106                4.9               2.5                4.5               1.7   \n",
            "113                5.7               2.5                5.0               2.0   \n",
            "58                 6.6               2.9                4.6               1.3   \n",
            "22                 4.6               3.6                1.0               0.2   \n",
            "107                7.3               2.9                6.3               1.8   \n",
            "118                7.7               2.6                6.9               2.3   \n",
            "28                 5.2               3.4                1.4               0.2   \n",
            "115                6.4               3.2                5.3               2.3   \n",
            "3                  4.6               3.1                1.5               0.2   \n",
            "\n",
            "     class ids class names  \n",
            "23           0      setosa  \n",
            "106          2   virginica  \n",
            "113          2   virginica  \n",
            "58           1  versicolor  \n",
            "22           0      setosa  \n",
            "107          2   virginica  \n",
            "118          2   virginica  \n",
            "28           0      setosa  \n",
            "115          2   virginica  \n",
            "3            0      setosa  \n"
          ]
        }
      ]
    },
    {
      "cell_type": "code",
      "source": [
        "## We do some basic Visualization \n",
        "\n",
        "\n",
        "def visualize_data(features, labels):\n",
        "  \"\"\" visualize the data in a 3D dimensional space , this done by taking the first 3 features to plot \n",
        "    ARGS : \n",
        "      features : features matrix \n",
        "      labels : target id \n",
        "  \"\"\"\n",
        "  features_3D = features[:,0:3]\n",
        "  fig = plt.figure()\n",
        "  ax = fig.add_subplot(111, projection='3d')\n",
        "  ax.set_xlabel('Sepal Length')\n",
        "  ax.set_ylabel('Sepal Width')\n",
        "  ax.set_zlabel('Petal Length')\n",
        "  COLORS = [\"b\", \"r\", \"g\"]\n",
        "  colors = [COLORS[i] for i in labels]\n",
        "\n",
        "  ax.scatter(features_3D[:,0], features_3D[:,1], features_3D[:,2], c=colors)\n",
        "  plt.show()\n",
        "\n",
        "visualize_data(np.copy(dataset.train_X), np.copy(dataset.train_Y))\n",
        "\n",
        "  \n",
        "\n"
      ],
      "metadata": {
        "colab": {
          "base_uri": "https://localhost:8080/",
          "height": 417
        },
        "id": "TTFF4oAFlFDj",
        "outputId": "2b85142a-f8c3-4c65-c769-dd146c6b7ed5"
      },
      "execution_count": 5,
      "outputs": [
        {
          "output_type": "display_data",
          "data": {
            "text/plain": [
              "<Figure size 640x480 with 1 Axes>"
            ],
            "image/png": "[encoded data removed]"
          },
          "metadata": {}
        }
      ]
    },
    {
      "cell_type": "markdown",
      "source": [
        "Now Coming to the classification Algorithms \n",
        "\n",
        "## K nearest neighbours algorithm \n",
        "\n",
        "In K nearest algorithms you have the train and test data. Their is no training procedure as such. To classify the test sample, the sample is compared to all training samples, with some given metric(most of the time euclidean distance) and the k samples with the lowest distance are taken. The final label is assigned by weighing the labels of the k training samples in some form of voted. It fast to train(that is it takes no time at all "
      ],
      "metadata": {
        "id": "zRbjtTNCA9i1"
      }
    },
    {
      "cell_type": "markdown",
      "source": [
        "\n",
        "![KNN.png](data:image/png;base64,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)\n"
      ],
      "metadata": {
        "id": "CFKEh6j2CcpA"
      }
    },
    {
      "cell_type": "code",
      "source": [
        "## Now build and predict using the KNN model\n",
        "def KNN_predict(train_X, train_Y, test_X, test_Y, K, norm = 2):\n",
        "    \"\"\"\n",
        "    Builds a KNN model using scikit-learn's KNeighborsClassifier and outputs a list of predictions and accuracy score.\n",
        "\n",
        "    Parameters:\n",
        "    -----------\n",
        "    train_X: array-like, shape (n_samples, n_features)\n",
        "        Training data.\n",
        "\n",
        "    train_Y: array-like, shape (n_samples,)\n",
        "        Target values for training data.\n",
        "\n",
        "    test_X: array-like, shape (n_samples, n_features)\n",
        "        Test data.\n",
        "\n",
        "    test_Y: array-like, shape (n_samples,)\n",
        "        Target values for test data.\n",
        "\n",
        "    K: int\n",
        "        Number of nearest neighbors to consider.\n",
        "    norm : int \n",
        "        The KNN by default uses minkowski distance as default, and norm sets which p to use for the norm , \n",
        "        for example norm = 1 is manhattan , 2 is euclidean  \n",
        "\n",
        "    Returns:\n",
        "    --------\n",
        "    result: tuple of (list, float)\n",
        "        A tuple containing a list of predicted values and the accuracy score.\n",
        "\n",
        "    \"\"\"\n",
        "    # Create a KNN classifier object with the given value of K\n",
        "    #note you can define your function def distance(a,b) which computes distance between \n",
        "    # any two samples in the dataset and pass the function to KNN\n",
        "    # using this format KNeighborsClassifier(n_neighbors=K, metric = distance)\n",
        "    knn = KNeighborsClassifier(n_neighbors=K, p = norm)\n",
        "\n",
        "    # Train the KNN classifier using the training data\n",
        "    knn.fit(train_X, train_Y)\n",
        "\n",
        "    # Use the trained classifier to make predictions on the test data\n",
        "    predictions = knn.predict(test_X)\n",
        "\n",
        "    # Calculate the accuracy score of the predictions\n",
        "    accuracy = accuracy_score(test_Y, predictions)\n",
        "\n",
        "    # Return a tuple containing the predictions and the accuracy score\n",
        "    return predictions, accuracy \n",
        "    \n",
        "def plot_KNN_result(train_X, train_Y, test_X, test_Y, max_K = 10):\n",
        "    \"\"\"\n",
        "      Plots the accuracy of K-Nearest Neighbor (KNN) classification algorithm for different values of K.\n",
        "\n",
        "      Parameters:\n",
        "      train_X (numpy array): The training data features.\n",
        "      train_Y (numpy array): The training data labels.\n",
        "      test_X (numpy array): The test data features.\n",
        "      test_Y (numpy array): The test data labels.\n",
        "      max_K (int): The maximum number of neighbors to consider (default 10).\n",
        "\n",
        "      Returns:\n",
        "      None. Displays a scatter plot of accuracy score against the number of neighbors (K).\n",
        "\n",
        "      \"\"\"  \n",
        "    \n",
        "    Ks = [i for i in range(1,max_K + 1)]\n",
        "    accuracies = []\n",
        "    for k in Ks:\n",
        "      predictions, accuracy = KNN_predict(train_X, train_Y, test_X, test_Y, k)\n",
        "      accuracies.append(accuracy)\n",
        "    print(len(Ks))\n",
        "    print(len(accuracies))\n",
        "    for i in range(0,max_K):\n",
        "      print(\"K : {0} Accuracy : {1} \".format(i+1, accuracies[i]))\n",
        "    plt.scatter(Ks, accuracies)\n",
        "    #set the ylim by scaling\n",
        "    plt.ylim(0,1.05)\n",
        "    plt.xlabel(\"number of neighbours(K)\")\n",
        "    plt.ylabel(\"Accuracy Score\")\n",
        "    plt.title(\"Accuracy vs K\")\n",
        "    plt.show()\n",
        "\n"
      ],
      "metadata": {
        "id": "mrgQSu3VC5fu"
      },
      "execution_count": 6,
      "outputs": []
    },
    {
      "cell_type": "code",
      "source": [
        "prediction , accuracy = KNN_predict(np.copy(dataset.train_X), np.copy(dataset.train_Y), np.copy(dataset.test_X), np.copy(dataset.test_Y), K = 3)\n",
        "predicted_names = dataset.get_class_names(prediction)\n",
        "true_names = dataset.get_class_names(np.copy(dataset.test_Y))\n",
        "print(\"The accuracy is : {0}\".format(accuracy))\n",
        "for i in range(len(dataset.test_Y)):\n",
        "  ground_truth = true_names[i]\n",
        "  predicted_class = predicted_names[i]\n",
        "  print(\" The prediction is : {0} and the ground truth is {1}\".format(predicted_class, ground_truth))\n"
      ],
      "metadata": {
        "colab": {
          "base_uri": "https://localhost:8080/"
        },
        "id": "9d1bprf1GRIY",
        "outputId": "7716853e-9223-48cd-e064-38acb78da0fe"
      },
      "execution_count": 7,
      "outputs": [
        {
          "output_type": "stream",
          "name": "stdout",
          "text": [
            "The accuracy is : 1.0\n",
            " The prediction is : versicolor and the ground truth is versicolor\n",
            " The prediction is : setosa and the ground truth is setosa\n",
            " The prediction is : virginica and the ground truth is virginica\n",
            " The prediction is : versicolor and the ground truth is versicolor\n",
            " The prediction is : versicolor and the ground truth is versicolor\n",
            " The prediction is : setosa and the ground truth is setosa\n",
            " The prediction is : versicolor and the ground truth is versicolor\n",
            " The prediction is : virginica and the ground truth is virginica\n",
            " The prediction is : versicolor and the ground truth is versicolor\n",
            " The prediction is : versicolor and the ground truth is versicolor\n",
            " The prediction is : virginica and the ground truth is virginica\n",
            " The prediction is : setosa and the ground truth is setosa\n",
            " The prediction is : setosa and the ground truth is setosa\n",
            " The prediction is : setosa and the ground truth is setosa\n",
            " The prediction is : setosa and the ground truth is setosa\n",
            " The prediction is : versicolor and the ground truth is versicolor\n",
            " The prediction is : virginica and the ground truth is virginica\n",
            " The prediction is : versicolor and the ground truth is versicolor\n",
            " The prediction is : versicolor and the ground truth is versicolor\n",
            " The prediction is : virginica and the ground truth is virginica\n"
          ]
        }
      ]
    },
    {
      "cell_type": "markdown",
      "source": [
        "How do we select what is the best K to use for any given dataset ? Unfortunately there isn't any theoretical grounding for how to choose this K. So the best way( or the way most people do) is to choose the K which is smallest in size while giving the best accuracy. This is done by plotting using the scores using the validation set. But for the sake of simplicity I will do it using train set.\n"
      ],
      "metadata": {
        "id": "KOaf3w7JLFl5"
      }
    },
    {
      "cell_type": "code",
      "source": [
        "plot_KNN_result(np.copy(dataset.train_X), np.copy(dataset.train_Y), np.copy(dataset.test_X), np.copy(dataset.test_Y), 10)"
      ],
      "metadata": {
        "colab": {
          "base_uri": "https://localhost:8080/",
          "height": 686
        },
        "id": "Lj6tbrumLv0w",
        "outputId": "1fa7001c-b275-417a-a102-94aa1ea7c46a"
      },
      "execution_count": 8,
      "outputs": [
        {
          "output_type": "stream",
          "name": "stdout",
          "text": [
            "10\n",
            "10\n",
            "K : 1 Accuracy : 1.0 \n",
            "K : 2 Accuracy : 1.0 \n",
            "K : 3 Accuracy : 1.0 \n",
            "K : 4 Accuracy : 1.0 \n",
            "K : 5 Accuracy : 1.0 \n",
            "K : 6 Accuracy : 1.0 \n",
            "K : 7 Accuracy : 0.95 \n",
            "K : 8 Accuracy : 1.0 \n",
            "K : 9 Accuracy : 1.0 \n",
            "K : 10 Accuracy : 1.0 \n"
          ]
        },
        {
          "output_type": "display_data",
          "data": {
            "text/plain": [
              "<Figure size 640x480 with 1 Axes>"
            ],
            "image/png": "[encoded data removed]"
          },
          "metadata": {}
        }
      ]
    },
    {
      "cell_type": "markdown",
      "source": [
        "Now coming to the next algorithm which is tree based algorith called ID3. ID3(Iterative Dichotomiser 3) constructs a tree by computing which feature provides the best information gain and partition the dataset based on the feature. Unfortunately ID3 is not implemented in sci-kit learn but an optimized CART algorithm which is based on ID3 with support for non-categorical features and some optimization is used instead for their decision tree model.\n",
        "\n",
        "For further reading please refer to this\n",
        "[Sklearn Decision Tree](https://scikit-learn.org/stable/modules/tree.html#tree-algorithms-id3-c4-5-c5-0-and-cart)"
      ],
      "metadata": {
        "id": "aEQT4N5NNu_L"
      }
    },
    {
      "cell_type": "code",
      "source": [
        "import time\n",
        "import sklearn.tree\n",
        "from sklearn.tree import DecisionTreeClassifier\n",
        "\n",
        "class DecisionTree:\n",
        "  \"\"\"\n",
        "  A class that builds a decision tree using the scikit-learn library.\n",
        "\n",
        "  Args:\n",
        "    criterion (str): The function to measure the quality of a split. Can be \"gini\" for the Gini impurity or \"entropy\" for the information gain. Default is \"gini\".\n",
        "  \n",
        "  Attributes:\n",
        "    criterion (str): The criterion used to build the decision tree.\n",
        "    Tree (DecisionTreeClassifier): The decision tree classifier object from scikit-learn.\n",
        "\n",
        "\n",
        "  \"\"\"\n",
        "  \n",
        "  def __init__(self, criterion=\"gini\"):\n",
        "    \"\"\"\n",
        "    Initializes a new instance of the DecisionTree class.\n",
        "\n",
        "    Args:\n",
        "      criterion (str): The function to measure the quality of a split. Can be \"gini\" for the Gini impurity or \"entropy\" for the information gain. Default is \"gini\".\n",
        "    \"\"\"\n",
        "    self.criterion = criterion\n",
        "    self.Tree = DecisionTreeClassifier(criterion=self.criterion, random_state=SEED)\n",
        "  \n",
        "  def train(self, train_X, train_Y):\n",
        "    \"\"\"\n",
        "    Trains the decision tree on the given training data.\n",
        "\n",
        "    Args:\n",
        "      train_X (array-like): The feature matrix of the training data.\n",
        "      train_Y (array-like): The class labels of the training data.\n",
        "    \"\"\"\n",
        "    print(\"start training\")\n",
        "    t1 = time.time()\n",
        "    self.Tree.fit(train_X, train_Y)\n",
        "    t2 = time.time()\n",
        "    print(\"Time taken for training: {0}\".format(t2 - t1))\n",
        "  \n",
        "  def predict(self, examples):\n",
        "    \"\"\"\n",
        "    Predicts the class labels of the given examples using the trained decision tree.\n",
        "\n",
        "    Args:\n",
        "      examples (array-like): The feature matrix of the examples to predict.\n",
        "\n",
        "    Returns:\n",
        "      array-like: The predicted class labels of the examples.\n",
        "    \"\"\"\n",
        "    predictions = self.Tree.predict(examples)\n",
        "    return predictions\n",
        "\n",
        "  def show_tree(self):\n",
        "    \"\"\"\n",
        "    Plots the decision tree graphically.\n",
        "    \"\"\"\n",
        "    sklearn.tree.plot_tree(self.Tree)\n"
      ],
      "metadata": {
        "id": "lD8Ll5LRNuaN"
      },
      "execution_count": 9,
      "outputs": []
    },
    {
      "cell_type": "code",
      "source": [
        "tree = DecisionTree()\n",
        "tree.train(np.copy(dataset.train_X), np.copy(dataset.train_Y))\n",
        "print(\"------------TRAINING ACCURACY------------\")\n",
        "\n",
        "predictions = tree.predict(np.copy(dataset.train_X))\n",
        "accuracy = accuracy_score(predictions, dataset.train_Y)\n",
        "print(\"Training Accuracy is : {0}\".format(accuracy))\n",
        "print(\"\")\n",
        "print(\"\")\n",
        "print(\"-------------TEST ACCURACY----------------\")\n",
        "\n",
        "predictions = tree.predict(np.copy(dataset.test_X))\n",
        "accuracy = accuracy_score(predictions, dataset.test_Y)\n",
        "print(\"Test Accuracy is : {0}\".format(accuracy))\n",
        "predicted_names = dataset.get_class_names(predictions)\n",
        "print(\"\")\n",
        "print(\"\")\n",
        "print(\"-------------TEST RESULTS -------------------\")\n",
        "for i in range(len(dataset.test_Y)):\n",
        "  ground_truth = true_names[i]\n",
        "  predicted_class = predicted_names[i]\n",
        "  print(\" The prediction is : {0} and the ground truth is {1}\".format(predicted_class, ground_truth))\n"
      ],
      "metadata": {
        "colab": {
          "base_uri": "https://localhost:8080/"
        },
        "id": "pagcaBAVeF3k",
        "outputId": "9e68d90b-6f0c-4896-806d-3f678929dd2d"
      },
      "execution_count": 10,
      "outputs": [
        {
          "output_type": "stream",
          "name": "stdout",
          "text": [
            "start training\n",
            "Time taken for training: 0.0023169517517089844\n",
            "------------TRAINING ACCURACY------------\n",
            "Training Accuracy is : 1.0\n",
            "\n",
            "\n",
            "-------------TEST ACCURACY----------------\n",
            "Test Accuracy is : 1.0\n",
            "\n",
            "\n",
            "-------------TEST RESULTS -------------------\n",
            " The prediction is : versicolor and the ground truth is versicolor\n",
            " The prediction is : setosa and the ground truth is setosa\n",
            " The prediction is : virginica and the ground truth is virginica\n",
            " The prediction is : versicolor and the ground truth is versicolor\n",
            " The prediction is : versicolor and the ground truth is versicolor\n",
            " The prediction is : setosa and the ground truth is setosa\n",
            " The prediction is : versicolor and the ground truth is versicolor\n",
            " The prediction is : virginica and the ground truth is virginica\n",
            " The prediction is : versicolor and the ground truth is versicolor\n",
            " The prediction is : versicolor and the ground truth is versicolor\n",
            " The prediction is : virginica and the ground truth is virginica\n",
            " The prediction is : setosa and the ground truth is setosa\n",
            " The prediction is : setosa and the ground truth is setosa\n",
            " The prediction is : setosa and the ground truth is setosa\n",
            " The prediction is : setosa and the ground truth is setosa\n",
            " The prediction is : versicolor and the ground truth is versicolor\n",
            " The prediction is : virginica and the ground truth is virginica\n",
            " The prediction is : versicolor and the ground truth is versicolor\n",
            " The prediction is : versicolor and the ground truth is versicolor\n",
            " The prediction is : virginica and the ground truth is virginica\n"
          ]
        }
      ]
    },
    {
      "cell_type": "code",
      "source": [
        "tree.show_tree()"
      ],
      "metadata": {
        "colab": {
          "base_uri": "https://localhost:8080/",
          "height": 406
        },
        "id": "RCUjDZNbob5x",
        "outputId": "774a88bc-298e-4849-8db7-07507fa35123"
      },
      "execution_count": 11,
      "outputs": [
        {
          "output_type": "display_data",
          "data": {
            "text/plain": [
              "<Figure size 640x480 with 1 Axes>"
            ],
            "image/png": "[encoded data removed]"
          },
          "metadata": {}
        }
      ]
    },
    {
      "cell_type": "markdown",
      "source": [
        "Now we come to naive bayes classifier. This is a class of classifier with the following basic principle.\n",
        "Given a vector $ X = (x_1,x_2....x_n) $ and the target class $y$. Our objective is to compute \n",
        "$$ P(y | x_1,x_2 ....x_n) $$\n",
        "From Bayes Rule \n",
        "$$ P(y | x_1,x_2....x_n) = \\frac{P(y) P(x_1,x_2...x_n|y) }{P(x_1,x_2...x_n)} $$\n",
        "The we use the **naive** assumption ssumption of conditional independence between every pair of features given the value of the class variable\n",
        "$$ P(x_i | y, x_1,x_2 ..x_{i-1}, x_{i+1} ...x_n) = P(x_i|y) $$\n",
        "Using this we can simplify the above expression \n",
        "$$ P(y | x_1,x_2....x_n) = \\frac{P(y) \\prod_{i=1}^n P(x_i | y)\n",
        "  }{P(x_1,x_2...x_n)} $$\n",
        "\n",
        "We want the class with highest probability. For that we can ignore the denominator and compute the following \n",
        "\n",
        "$$ \\hat{y} = \\arg \\max_y P(y) \\prod_{i=1}^n P(x_i | y)$$\n",
        "\n",
        "How different flavours of Naive Bayes differ is the assumption regarding the probability distribution of  $ P(x_i| y) $. We can make different distributional assumption for different classifier. We focus on the Gaussian Naive Bayes.\n",
        "\n",
        "Here we have \n",
        " $$ P(x_i | y) = \\frac{1}{\\sqrt{2\\pi\\sigma_2}}e^{\\frac{-(x_i - \\mu_y)^ 2}{2\\sigma_y^2 }}$$\n",
        "Where $\\sigma_y$ and $\\mu_y$ are calculated using maximum likelyhood estimate \n",
        "For further reading please refer to this [Naive Bayes](https://https://scikit-learn.org/stable/modules/naive_bayes.html)"
      ],
      "metadata": {
        "id": "v4hog54VfF2N"
      }
    },
    {
      "cell_type": "code",
      "source": [
        "class GaussianNaiveBayes:\n",
        "  \"\"\" builds a Gaussian Naive Bayes classifier \"\"\"\n",
        "  def __init__(self):\n",
        "    \n",
        "    self.classifier = GaussianNB()\n",
        "  \n",
        "  \n",
        "  def train(self, train_X, train_Y):\n",
        "    \"\"\"\n",
        "    Trains the Gaussian Naive bayes on the given training data.\n",
        "\n",
        "    Args:\n",
        "      train_X (array-like): The feature matrix of the training data.\n",
        "      train_Y (array-like): The class labels of the training data.\n",
        "    \"\"\"\n",
        "    print(\"start training\")\n",
        "    t1 = time.time()\n",
        "    self.classifier.fit(train_X, train_Y)\n",
        "    t2 = time.time()\n",
        "    print(\"Time taken for training: {0}\".format(t2 - t1))\n",
        "  \n",
        "  def predict(self, examples):\n",
        "    \"\"\"\n",
        "    Predicts the class labels of the given examples using the trained decision tree.\n",
        "\n",
        "    Args:\n",
        "      examples (array-like): The feature matrix of the examples to predict.\n",
        "\n",
        "    Returns:\n",
        "      array-like: The predicted class labels of the examples.\n",
        "    \"\"\"\n",
        "    predictions = self.classifier.predict(examples)\n",
        "    return predictions"
      ],
      "metadata": {
        "id": "nyZcLwPalefY"
      },
      "execution_count": 12,
      "outputs": []
    },
    {
      "cell_type": "code",
      "source": [
        "Bayes = GaussianNaiveBayes()\n",
        "Bayes.train(np.copy(dataset.train_X), np.copy(dataset.train_Y))\n",
        "print(\"------------TRAINING ACCURACY------------\")\n",
        "\n",
        "predictions = Bayes.predict(np.copy(dataset.train_X))\n",
        "accuracy = accuracy_score(predictions, dataset.train_Y)\n",
        "print(\"Training Accuracy is : {0}\".format(accuracy))\n",
        "print(\"\")\n",
        "print(\"\")\n",
        "print(\"-------------TEST ACCURACY----------------\")\n",
        "\n",
        "predictions = Bayes.predict(np.copy(dataset.test_X))\n",
        "accuracy = accuracy_score(predictions, dataset.test_Y)\n",
        "print(\"Test Accuracy is : {0}\".format(accuracy))\n",
        "predicted_names = dataset.get_class_names(predictions)\n",
        "print(\"\")\n",
        "print(\"\")\n",
        "print(\"-------------TEST RESULTS -------------------\")\n",
        "for i in range(len(dataset.test_Y)):\n",
        "  ground_truth = true_names[i]\n",
        "  predicted_class = predicted_names[i]\n",
        "  print(\" The prediction is : {0} and the ground truth is {1}\".format(predicted_class, ground_truth))\n"
      ],
      "metadata": {
        "colab": {
          "base_uri": "https://localhost:8080/"
        },
        "id": "Xbt2Mc9JmhEp",
        "outputId": "46bf82ea-523e-49c3-aad5-add95941a7a0"
      },
      "execution_count": 13,
      "outputs": [
        {
          "output_type": "stream",
          "name": "stdout",
          "text": [
            "start training\n",
            "Time taken for training: 0.002573728561401367\n",
            "------------TRAINING ACCURACY------------\n",
            "Training Accuracy is : 0.9538461538461539\n",
            "\n",
            "\n",
            "-------------TEST ACCURACY----------------\n",
            "Test Accuracy is : 1.0\n",
            "\n",
            "\n",
            "-------------TEST RESULTS -------------------\n",
            " The prediction is : versicolor and the ground truth is versicolor\n",
            " The prediction is : setosa and the ground truth is setosa\n",
            " The prediction is : virginica and the ground truth is virginica\n",
            " The prediction is : versicolor and the ground truth is versicolor\n",
            " The prediction is : versicolor and the ground truth is versicolor\n",
            " The prediction is : setosa and the ground truth is setosa\n",
            " The prediction is : versicolor and the ground truth is versicolor\n",
            " The prediction is : virginica and the ground truth is virginica\n",
            " The prediction is : versicolor and the ground truth is versicolor\n",
            " The prediction is : versicolor and the ground truth is versicolor\n",
            " The prediction is : virginica and the ground truth is virginica\n",
            " The prediction is : setosa and the ground truth is setosa\n",
            " The prediction is : setosa and the ground truth is setosa\n",
            " The prediction is : setosa and the ground truth is setosa\n",
            " The prediction is : setosa and the ground truth is setosa\n",
            " The prediction is : versicolor and the ground truth is versicolor\n",
            " The prediction is : virginica and the ground truth is virginica\n",
            " The prediction is : versicolor and the ground truth is versicolor\n",
            " The prediction is : versicolor and the ground truth is versicolor\n",
            " The prediction is : virginica and the ground truth is virginica\n"
          ]
        }
      ]
    },
    {
      "cell_type": "markdown",
      "source": [
        "## EXTRA STUFF : PYTORCH, GPU TRAINING and DEEP LEARNING\n",
        "Please note that this is not required for your course and we will be covering this only in the case that we have extra time. \n",
        "\n",
        "While so far we have covered classical machine learning method, we now disuss deep learning based method. We use pytorch to build and train these model on the MNIST dataset. The MNIST dataset contains image of handwritten digit and our job is to identify which digit it is. \n",
        "\n",
        "For this we use a very simple Feed forward layer with 2 hidden layer and ReLU as the activation function. \n",
        "Activation functions are used to add non-linearity to the model which allows them to learn complex functions.'\n",
        "We use ReLU as our activatio function. ReLU is given by \n",
        "$$ f(x) = \\max(0,x) $$\n",
        "\n",
        "We also define a loss to evaluate and train our model.\n",
        "We choose the cross entropy loss for this, This is most commonly used loss. The cross entropy loss is given by \n",
        " $$ \\text{Cross Entropy Loss} = -\\sum_{i}^{C}t_i \\log{\\frac{e^{x_i}}{\\sum_{j}^{C}e^{x_j}}}$$\n",
        " Where $C$ is the number of classes , $ X = (x_1,x_2,..x_c) $ are the output of the model and $ T = (t_1,t_2.....t_c) $ is the target label defines as $t_i = 1 $ if $i^{th}$ class is the true and $t_i = 0$ if not.\n",
        "\n",
        "We also need an optimization algorithm to use the loss to compute the gradient and update the model. We use the stochastic gradient descent.\n",
        "\n",
        "In batch gradient descent, we compute the loss over all samples in the dataset and use that loss to generate the gradients that we used to update the model\n",
        "\n",
        "In mini batch gradient descent, we compute the loss for the small batch(subset of the whole dataset) and this loss is supposed to serve as the approximate of the whole dataset and use this approximate loss to compute the gradient for the model update. This is largely done for computational purpose and this prevents storing and computation of large number of gradients.\n",
        "\n",
        "In stochastic gradient descent , the batch size is set to 1 , that is update is done for each sample.\n",
        "In practice pytorch's SGD is actually minibatch gradient descent. \n",
        "\n",
        "The importance and beauty of pytorch is that it allows you to do both massive levels of parallelization through GPU, batching and Multi-GPU training/inference along with complex gradient computation with very little effort. \n"
      ],
      "metadata": {
        "id": "Wy3UcPjIoi8T"
      }
    },
    {
      "cell_type": "code",
      "source": [
        "import torch\n",
        "import torch.nn as nn\n",
        "import torch.optim as optim\n",
        "from torchvision import datasets, transforms\n"
      ],
      "metadata": {
        "id": "yFb43TV0qETy"
      },
      "execution_count": 14,
      "outputs": []
    },
    {
      "cell_type": "code",
      "source": [
        "\n",
        "#In pytorch inputs are tensors, which are multidimensional array \n",
        "# Understanding tensors are very important to working with pytorch, because the computational graph which is used for training and inference are build \n",
        "# using these tensors and these tensor also stores the gradient to do backpropagation \n",
        "# for neural networks to train stability , it is better to centre the data to 0 and scale by standard deviation otherwise some features tend \n",
        "# to dominate over others. \n",
        "# Define transformation for input data\n",
        "transform = transforms.Compose([\n",
        "    transforms.ToTensor(),  # convert to tensor\n",
        "    transforms.Normalize((0.1307,), (0.3081,))  # normalize input\n",
        "])\n",
        "\n",
        "## modified from https://pytorch.org/vision/stable/auto_examples/plot_visualization_utils.html\n",
        "def show(imgs):\n",
        "    \"\"\" makes a grid to display the list of images \n",
        "    ARGS :\n",
        "      imgs : a tensor instance from a dataset class or a list of tensor instance from a image dataset class \n",
        "    \"\"\"\n",
        "    if not isinstance(imgs, list):\n",
        "        imgs = [imgs]\n",
        "    fig, axs = plt.subplots(ncols=len(imgs), squeeze=False)\n",
        "    for i, img in enumerate(imgs):\n",
        "        # dataset returns data as tensor and shape (c,h,w)\n",
        "        # we want the image to be numpy and shaped as (h,w) as c here is 1 \n",
        "        img = np.copy(img.numpy())\n",
        "        img = img.squeeze(0)\n",
        "        \n",
        "        axs[0, i].imshow(np.asarray(img), cmap = 'gray')\n",
        "        axs[0, i].set(xticklabels=[], yticklabels=[], xticks=[], yticks=[])"
      ],
      "metadata": {
        "id": "oZ0uvfw1r5Px"
      },
      "execution_count": 15,
      "outputs": []
    },
    {
      "cell_type": "code",
      "source": [
        "# pytorch uses a define dataset class to handle the data \n",
        "# this dataset class is customizable to fit any kind of data you want\n",
        "# Load training and testing datasets\n",
        "\n",
        "train_dataset = datasets.MNIST(root='./data', train=True, download=True, transform=transform)\n",
        "test_dataset = datasets.MNIST(root='./data', train=False, download=True, transform=transform)\n",
        "\n",
        "\n",
        "\n",
        "# Create data loaders\n",
        "# dataloader helps parallize your training. \n",
        "# it returns batches of your dataset. If for instance your batchsize = 32 and your image has dimension (28,28)\n",
        "# the dataloader for each iterate returns a tensor of shape (32,1,28,28) where 1 is the channel\n",
        "# pytorch sets the input format to (batch_size, channel, height , width)\n",
        "# parallization is critical to ensure one is able to train on large sets of data\n",
        "# As GPU memory is limited, finding the right batchsize for your dataset and GPU is critical for efficient training \n",
        "train_loader = torch.utils.data.DataLoader(train_dataset, batch_size=BATCH_SIZE, shuffle=True)\n",
        "test_loader = torch.utils.data.DataLoader(test_dataset, batch_size=BATCH_SIZE, shuffle=False)"
      ],
      "metadata": {
        "id": "AejKAst7swux",
        "outputId": "5b48f03e-a103-4bf1-d4a6-baac9a7f1291",
        "colab": {
          "base_uri": "https://localhost:8080/",
          "height": 431,
          "referenced_widgets": [
            "0a3dd33df60a44edabe032f020f53d44",
            "da5f6386dbb44b87b0d16846e85a22f2",
            "6b9e1a16701a418e87c8974ff223b751",
            "506554c591ae43c29588a543aa2c2079",
            "26c471fedca345c39ab7158f72349d58",
            "30f336a985c944f392688da3dd3606ac",
            "8c00f5b2bbce40e4999d01364989b322",
            "65fc5dd080534b9a9873ecb21c48ca36",
            "c2f985f20df24566ad904c6e98c04afe",
            "5cda215c21104db3a5caa4aa5496c215",
            "7ec4a07e7d804545933fec3efe65ff0b",
            "4e3a9e2205ea4fcf8385b4f9b63a31b4",
            "67bd7c6e32634ca18c15d33205737bd4",
            "6ba4671d08bb4779ab7038933bdff52b",
            "b744f04683c642fda2e2eb41f105d381",
            "db9de71670a243c5875664d0ecd9ab36",
            "9247d8b2f11c4b2a8bcb5ac2d68d2d97",
            "7a7a5ae2fd37492584f7e908705ed0b7",
            "7a2e84e5b5f24e55882e1cda4f6fb280",
            "e9ae276f1a374b22a538f32ebc25c44b",
            "a5f25b48d83544a5b8a04a126c5e15f1",
            "67700ce651f64a1ead4696842490f210",
            "85a6c41ad184482b835d38afc7e74598",
            "7b88cbc5a0324c6a9c4eb929f0e143c5",
            "eb86db36ebae4921a526bd9cb0c0b092",
            "2857a321ab75487b98c26b0becfec7f4",
            "b54253165c504d3c94e69a19e0643d0a",
            "812dfdf1d93049698cb1d3754c38ef97",
            "631ecb662eed4f5caa896b565f68f1b7",
            "0f636401d21348a68aa590032641e99b",
            "5ccd040ff2c5439c900352f244f1ac2d",
            "a1b4bd14712b4f65bd9ddaddff73e377",
            "ec8a55750867446b97ffccc317af465f",
            "a2d425815add4006a1f666c802dc07e5",
            "04ff4ae6bc504788946a46885402af61",
            "493af62afeda44209455140357677a7f",
            "e5d7bcc51fd14879b18b75dc405dc51c",
            "4ee6d3a37b584c719700f7ee28257dc4",
            "497385fa9f5147babddde4cc74470452",
            "ea321c2d26a74c328125ebe414726065",
            "29d623d1c7bc46878d18472731d981dd",
            "b8436318740f4c9b8bb6a53668a69725",
            "f4c45a39dab542b8aa2fe2e820ca8370",
            "f8ff255aea21448ebd1aed145ba665bd"
          ]
        }
      },
      "execution_count": 16,
      "outputs": [
        {
          "output_type": "stream",
          "name": "stdout",
          "text": [
            "Downloading http://yann.lecun.com/exdb/mnist/train-images-idx3-ubyte.gz\n",
            "Downloading http://yann.lecun.com/exdb/mnist/train-images-idx3-ubyte.gz to ./data/MNIST/raw/train-images-idx3-ubyte.gz\n"
          ]
        },
        {
          "output_type": "display_data",
          "data": {
            "text/plain": [
              "  0%|          | 0/9912422 [00:00<?, ?it/s]"
            ],
            "application/vnd.jupyter.widget-view+json": {
              "version_major": 2,
              "version_minor": 0,
              "model_id": "0a3dd33df60a44edabe032f020f53d44"
            }
          },
          "metadata": {}
        },
        {
          "output_type": "stream",
          "name": "stdout",
          "text": [
            "Extracting ./data/MNIST/raw/train-images-idx3-ubyte.gz to ./data/MNIST/raw\n",
            "\n",
            "Downloading http://yann.lecun.com/exdb/mnist/train-labels-idx1-ubyte.gz\n",
            "Downloading http://yann.lecun.com/exdb/mnist/train-labels-idx1-ubyte.gz to ./data/MNIST/raw/train-labels-idx1-ubyte.gz\n"
          ]
        },
        {
          "output_type": "display_data",
          "data": {
            "text/plain": [
              "  0%|          | 0/28881 [00:00<?, ?it/s]"
            ],
            "application/vnd.jupyter.widget-view+json": {
              "version_major": 2,
              "version_minor": 0,
              "model_id": "4e3a9e2205ea4fcf8385b4f9b63a31b4"
            }
          },
          "metadata": {}
        },
        {
          "output_type": "stream",
          "name": "stdout",
          "text": [
            "Extracting ./data/MNIST/raw/train-labels-idx1-ubyte.gz to ./data/MNIST/raw\n",
            "\n",
            "Downloading http://yann.lecun.com/exdb/mnist/t10k-images-idx3-ubyte.gz\n",
            "Downloading http://yann.lecun.com/exdb/mnist/t10k-images-idx3-ubyte.gz to ./data/MNIST/raw/t10k-images-idx3-ubyte.gz\n"
          ]
        },
        {
          "output_type": "display_data",
          "data": {
            "text/plain": [
              "  0%|          | 0/1648877 [00:00<?, ?it/s]"
            ],
            "application/vnd.jupyter.widget-view+json": {
              "version_major": 2,
              "version_minor": 0,
              "model_id": "85a6c41ad184482b835d38afc7e74598"
            }
          },
          "metadata": {}
        },
        {
          "output_type": "stream",
          "name": "stdout",
          "text": [
            "Extracting ./data/MNIST/raw/t10k-images-idx3-ubyte.gz to ./data/MNIST/raw\n",
            "\n",
            "Downloading http://yann.lecun.com/exdb/mnist/t10k-labels-idx1-ubyte.gz\n",
            "Downloading http://yann.lecun.com/exdb/mnist/t10k-labels-idx1-ubyte.gz to ./data/MNIST/raw/t10k-labels-idx1-ubyte.gz\n"
          ]
        },
        {
          "output_type": "display_data",
          "data": {
            "text/plain": [
              "  0%|          | 0/4542 [00:00<?, ?it/s]"
            ],
            "application/vnd.jupyter.widget-view+json": {
              "version_major": 2,
              "version_minor": 0,
              "model_id": "a2d425815add4006a1f666c802dc07e5"
            }
          },
          "metadata": {}
        },
        {
          "output_type": "stream",
          "name": "stdout",
          "text": [
            "Extracting ./data/MNIST/raw/t10k-labels-idx1-ubyte.gz to ./data/MNIST/raw\n",
            "\n"
          ]
        }
      ]
    },
    {
      "cell_type": "code",
      "source": [
        "#visualize the dataset \n",
        "# the dataset returns (img, class) hence we take 0th index if we only want the image \n",
        "training_images = [train_dataset[i][0] for i in range(6)]\n",
        "show(training_images)\n",
        "print(\"Number of Training Examples : {0} \".format(len(train_dataset)))\n",
        "print(\"Number of Test Examples : {0} \".format(len(test_dataset)))\n",
        "print(\"shape of instance of the dataclass : {0}\".format(training_images[0].shape))\n",
        "images, labels = next(iter(test_loader))\n",
        "print(\"shape of the images outputted by the dataloader : {0} and shape of the labels outputted by the dataloader : {1}\".format(images.shape, labels.shape))\n"
      ],
      "metadata": {
        "colab": {
          "base_uri": "https://localhost:8080/",
          "height": 178
        },
        "id": "ZaQajBCvuIh_",
        "outputId": "5d42fb81-9e57-4fe8-d4a3-e015e62f550c"
      },
      "execution_count": 17,
      "outputs": [
        {
          "output_type": "stream",
          "name": "stdout",
          "text": [
            "Number of Training Examples : 60000 \n",
            "Number of Test Examples : 10000 \n",
            "shape of instance of the dataclass : torch.Size([1, 28, 28])\n",
            "shape of the images outputted by the dataloader : torch.Size([64, 1, 28, 28]) and shape of the labels outputted by the dataloader : torch.Size([64])\n"
          ]
        },
        {
          "output_type": "display_data",
          "data": {
            "text/plain": [
              "<Figure size 640x480 with 6 Axes>"
            ],
            "image/png": "[encoded data removed]"
          },
          "metadata": {}
        }
      ]
    },
    {
      "cell_type": "code",
      "source": [
        "# define the model , and training and test loop\n",
        "# Define the neural network architecture\n",
        "class Net(nn.Module):\n",
        "    def __init__(self):\n",
        "        super(Net, self).__init__()\n",
        "\n",
        "        self.Classifier = nn.ModuleList([\n",
        "            nn.Linear(784, 256),\n",
        "            nn.ReLU(), # Relu is activation function for the purposes of adding nonlinearity \n",
        "            nn.Linear(256, 128),\n",
        "            nn.ReLU(),\n",
        "            nn.Linear(128, 10)\n",
        "        ])\n",
        "\n",
        "    def forward(self, x):\n",
        "        #assume the input is (32,1,28,28)\n",
        "        #print(\"input data shape : {0}\".format(x.shape))\n",
        "        x = x.view(-1, 784)  # flatten input tensor This flatten the input size in the last 3 dimension. Note 28*28 is 784\n",
        "        # the first linear layer transforms (64,784) to(64,256) the next two layers transforms it into (64,128) and the finally to (64,10)\n",
        "        #print(\"input data shape after flattening : {0}\".format(x.shape))\n",
        "\n",
        "\n",
        "\n",
        "        for index, layer in enumerate(self.Classifier):\n",
        "          x = layer(x)    \n",
        "          #print(\"layer index : {0} and output shape : {1} \".format(index, x.shape))   \n",
        "        return x                          \n",
        "def train(model, train_loader, criterion, optimizer, num_epochs, device):\n",
        "    \"\"\"\n",
        "    Trains a neural network model using a given data loader and loss function.\n",
        "\n",
        "    Args:\n",
        "        model: A PyTorch neural network model.\n",
        "        train_loader: A PyTorch data loader containing training data.\n",
        "        criterion: A PyTorch loss function.\n",
        "        optimizer: A PyTorch optimizer.\n",
        "        num_epochs: The number of epochs to train the model for.\n",
        "        device : device to be used\n",
        "    Returns :\n",
        "      The statistic regarding training\n",
        "    \"\"\"\n",
        "    #add the model to the device\n",
        "    model = model.to(device)\n",
        "    train_stats = {}\n",
        "    t0 = time.time()\n",
        "    epochs = []\n",
        "    accuracy = []\n",
        "    losses = []\n",
        "    for epoch in range(num_epochs):\n",
        "        running_loss = 0.0\n",
        "        t1 = time.time()\n",
        "        correct = 0\n",
        "        total = 0\n",
        "        for i, data in enumerate(train_loader, 0):\n",
        "\n",
        "            inputs, labels = data # extracts the input images and labels\n",
        "            inputs , labels = inputs.to(device), labels.to(device) # add the data to the GPU\n",
        "            optimizer.zero_grad() # ensures the gradients are initialized to zero, unless the update and gradient calculation will be wrong\n",
        "            outputs = model(inputs) # makes the model do forward pass on the inputs\n",
        "            loss = criterion(outputs, labels) # computes the loss\n",
        "            loss.backward() # this computes the gradients for each parameters using the loss. Basically del(Loss)/ del(w)\n",
        "            optimizer.step() #use the gradients to update the model parameters\n",
        "            running_loss += loss.item() #computes the loss \n",
        "            _, predicted = torch.max(outputs.data, 1) # does argmax to predict the class id \n",
        "            total += labels.size(0) # total number of labels for this batch\n",
        "            correct += (predicted == labels).sum().item() # number of correct \n",
        "        t2 = time.time()\n",
        "        epochs.append(epoch + 1)\n",
        "        losses.append(running_loss / len(train_loader))\n",
        "        accuracy.append(correct / total)\n",
        "\n",
        "\n",
        "        print('[Epoch %d] loss: %.3f accuracy : %.3f time take : %.3f' % (epoch + 1, running_loss / len(train_loader), correct / total, t2 - t1))\n",
        "    train_stats = {\"epochs\" : epochs, \"loss\" : losses, \"accuracy\" : accuracy}\n",
        "    return train_stats\n",
        "def test(model, test_loader, device):\n",
        "    \"\"\"\n",
        "    Tests a neural network model using a given data loader.\n",
        "\n",
        "    Args:\n",
        "        model: A PyTorch neural network model.\n",
        "        test_loader: A PyTorch data loader containing testing data.\n",
        "        device : device to be used\n",
        "\n",
        "    \"\"\"\n",
        "    correct = 0\n",
        "    total = 0\n",
        "    model = model.to(device)\n",
        "    with torch.no_grad(): # tells the model not to compute gradients as we don't need it for evals \n",
        "        for data in test_loader:\n",
        "            inputs, labels = data\n",
        "            inputs , labels = inputs.to(device), labels.to(device)\n",
        "            outputs = model(inputs)\n",
        "            _, predicted = torch.max(outputs.data, 1)\n",
        "            total += labels.size(0)\n",
        "            correct += (predicted == labels).sum().item()\n",
        "    print('Accuracy: %d %%' % (100 * correct / total))\n"
      ],
      "metadata": {
        "id": "sPq_DlR3x_r8"
      },
      "execution_count": 18,
      "outputs": []
    },
    {
      "cell_type": "code",
      "source": [
        "test_model = Net()\n",
        "random_example = torch.rand(32,1,28,28)\n",
        "res = test_model(random_example)\n",
        "print(res.shape)"
      ],
      "metadata": {
        "colab": {
          "base_uri": "https://localhost:8080/"
        },
        "id": "UsW0p6pO0wA_",
        "outputId": "237106fb-55e1-4562-e32b-978fa8af2e33"
      },
      "execution_count": 19,
      "outputs": [
        {
          "output_type": "stream",
          "name": "stdout",
          "text": [
            "torch.Size([32, 10])\n"
          ]
        }
      ]
    },
    {
      "cell_type": "code",
      "source": [
        "#initiate the model\n",
        "model = Net()\n",
        "\n",
        "#criterion is the loss function \n",
        "# CrossEntropy Loss computes the cross entropy Loss \n",
        "criterion = nn.CrossEntropyLoss()\n",
        "\n",
        "#optimizater is the stochastic gradient descent.\n",
        "# It is responsible for computing the gradient and updating the model paramters\n",
        "optimizer = optim.SGD(model.parameters(), lr=LEARNING_RATE)\n",
        "#device is used for GPU \n",
        "# to use the GPU you have to insert the model and the input inside the GPU\n",
        "device = torch.device(\"cuda\" if torch.cuda.is_available() else \"cpu\") # this tells we want to use the GPU if its available\n",
        "\n",
        "train_stats = train(model, train_loader, criterion, optimizer, NUM_EPOCHS, device)\n"
      ],
      "metadata": {
        "colab": {
          "base_uri": "https://localhost:8080/"
        },
        "id": "1IjiMCUpqAlQ",
        "outputId": "d3f00f61-ec0b-4612-f7b5-2db61740fa5a"
      },
      "execution_count": 20,
      "outputs": [
        {
          "output_type": "stream",
          "name": "stdout",
          "text": [
            "[Epoch 1] loss: 0.785 accuracy : 0.804 time take : 27.186\n",
            "[Epoch 2] loss: 0.301 accuracy : 0.914 time take : 14.251\n",
            "[Epoch 3] loss: 0.246 accuracy : 0.929 time take : 14.376\n",
            "[Epoch 4] loss: 0.210 accuracy : 0.939 time take : 14.717\n",
            "[Epoch 5] loss: 0.182 accuracy : 0.947 time take : 16.662\n",
            "[Epoch 6] loss: 0.161 accuracy : 0.953 time take : 14.676\n",
            "[Epoch 7] loss: 0.142 accuracy : 0.959 time take : 14.692\n",
            "[Epoch 8] loss: 0.128 accuracy : 0.964 time take : 14.491\n",
            "[Epoch 9] loss: 0.115 accuracy : 0.967 time take : 14.759\n",
            "[Epoch 10] loss: 0.105 accuracy : 0.970 time take : 14.841\n"
          ]
        }
      ]
    },
    {
      "cell_type": "code",
      "source": [
        "## plot training curves \n",
        "epochs = train_stats[\"epochs\"]\n",
        "loss = train_stats[\"loss\"]\n",
        "accuracy = train_stats[\"accuracy\"]\n",
        "plt.plot(epochs, loss, color = \"red\", label = \"loss\")\n",
        "plt.plot(epochs, accuracy, color = \"green\", label = \"accuracy\")\n",
        "plt.legend()\n",
        "plt.xlabel(\"Epochs\")\n",
        "plt.ylabel(\"Loss/ Accuracy\")\n",
        "plt.title(\"Loss / Accuracy Curve vs Epochs\")"
      ],
      "metadata": {
        "colab": {
          "base_uri": "https://localhost:8080/",
          "height": 490
        },
        "id": "x6Zx3NHs_Bfo",
        "outputId": "dcddaf6b-89a8-45ea-97cc-d9853fdec5fa"
      },
      "execution_count": 21,
      "outputs": [
        {
          "output_type": "execute_result",
          "data": {
            "text/plain": [
              "Text(0.5, 1.0, 'Loss / Accuracy Curve vs Epochs')"
            ]
          },
          "metadata": {},
          "execution_count": 21
        },
        {
          "output_type": "display_data",
          "data": {
            "text/plain": [
              "<Figure size 640x480 with 1 Axes>"
            ],
            "image/png": "[encoded data removed]"
          },
          "metadata": {}
        }
      ]
    },
    {
      "cell_type": "code",
      "source": [
        "print(\"--------- INITIAL TEST ACCURACY OF AN UNTRAINED MODEL-------------\")\n",
        "baseline = Net()\n",
        "test(baseline, test_loader, device)\n",
        "print(\"---------- FINAL ACCURACY AFTER 10 EPOCHS TRAINING-----------------\")\n",
        "test(model, test_loader, device)\n"
      ],
      "metadata": {
        "colab": {
          "base_uri": "https://localhost:8080/"
        },
        "id": "jE2vfNBrtLJP",
        "outputId": "541feeb7-fe95-4401-b5b4-0ead84c52a4a"
      },
      "execution_count": 22,
      "outputs": [
        {
          "output_type": "stream",
          "name": "stdout",
          "text": [
            "--------- INITIAL TEST ACCURACY OF AN UNTRAINED MODEL-------------\n",
            "Accuracy: 8 %\n",
            "---------- FINAL ACCURACY AFTER 10 EPOCHS TRAINING-----------------\n",
            "Accuracy: 96 %\n"
          ]
        }
      ]
    }
  ]
}